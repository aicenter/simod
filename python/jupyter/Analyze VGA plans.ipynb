{
 "cells": [
  {
   "cell_type": "code",
   "execution_count": 1,
   "metadata": {
    "collapsed": true
   },
   "outputs": [
    {
     "name": "stderr",
     "output_type": "stream",
     "text": [
      "INFO:root:Loading config for project RoadmaptoolsConfig (can be overwritten later)\n",
      "INFO:root:map_dir: FILL YOUR MAP DIR HERE\n",
      "osm_source_url: https://s3.amazonaws.com/metro-extracts.mapzen.com/valencia_spain.osm.bz2\n",
      "osm_map_filename: FILL YOUR MAP DIR HEREmap.osm\n",
      "filtered_osm_filename: FILL YOUR MAP DIR HEREmap-filtered.osm\n",
      "geojson_file: FILL YOUR MAP DIR HEREmap.geojson\n",
      "cleaned_geojson_file: FILL YOUR MAP DIR HEREmap-cleaned.geojson\n",
      "sanitized_geojson_file: FILL YOUR MAP DIR HEREmap-sanitized.geojson\n",
      "simplified_file: FILL YOUR MAP DIR HEREmap-simplified.geojson\n",
      "simplified_file_with_speed: FILL YOUR MAP DIR HEREmap-simplified-speed.geojson\n",
      "simplified_file_with_speed_and_curvature: FILL YOUR MAP DIR HEREmap-simplified-speed-curvature.geojson\n",
      "ap_nodes_file: FILL YOUR MAP DIR HEREnodes.geojson\n",
      "ap_edges_file: FILL YOUR MAP DIR HEREedges.geojson\n",
      "utm_center_lon: 50.0877506\n",
      "utm_center_lat: 14.4209293\n",
      "shift_utm_coordinate_origin_to_utm_center: False\n",
      "shapely_error_tolerance: 0.005\n",
      "osm_filter_params: --keep=\"highway=motorway =motorway_link =trunk =trunk_link =primary =primary_link =secondary =secondary_link =tertiary =tertiary_link =unclassified =unclassified_link =residential =residential_link =living_street\" --drop=\"access=no\"\n",
      "south: 49.94\n",
      "east: 14.22\n",
      "north: 50.17\n",
      "west: 14.71\n",
      "\n"
     ]
    }
   ],
   "source": [
    "import roadmaptools.inout"
   ]
  },
  {
   "cell_type": "code",
   "execution_count": 28,
   "outputs": [
    {
     "name": "stdout",
     "output_type": "stream",
     "text": [
      "[11:37:38]: Loading json file from: C:\\AIC Experiment Data\\VGA\\experiments\\vga_plan_export_test\\vga_plans\\plans_iteration_35.json\n"
     ]
    }
   ],
   "source": [
    "json_plans = roadmaptools.inout.load_json(r\"C:\\AIC Experiment Data\\VGA\\experiments\\vga_plan_export_test\\vga_plans/plans_iteration_35.json\")"
   ],
   "metadata": {
    "collapsed": false,
    "pycharm": {
     "name": "#%%\n"
    }
   }
  },
  {
   "cell_type": "code",
   "execution_count": 29,
   "outputs": [
    {
     "data": {
      "text/plain": "5892"
     },
     "execution_count": 29,
     "metadata": {},
     "output_type": "execute_result"
    }
   ],
   "source": [
    "len(json_plans)"
   ],
   "metadata": {
    "collapsed": false,
    "pycharm": {
     "name": "#%%\n"
    }
   }
  },
  {
   "cell_type": "code",
   "execution_count": 30,
   "outputs": [],
   "source": [
    "action_sizes = [len(plan[\"actions\"]) for plan in json_plans]"
   ],
   "metadata": {
    "collapsed": false,
    "pycharm": {
     "name": "#%%\n"
    }
   }
  },
  {
   "cell_type": "code",
   "execution_count": 33,
   "outputs": [
    {
     "data": {
      "text/plain": "5"
     },
     "execution_count": 33,
     "metadata": {},
     "output_type": "execute_result"
    }
   ],
   "source": [
    "action_sizes.count(10)"
   ],
   "metadata": {
    "collapsed": false,
    "pycharm": {
     "name": "#%%\n"
    }
   }
  },
  {
   "cell_type": "code",
   "execution_count": null,
   "outputs": [],
   "source": [],
   "metadata": {
    "collapsed": false,
    "pycharm": {
     "name": "#%%\n"
    }
   }
  }
 ],
 "metadata": {
  "kernelspec": {
   "display_name": "Python 3",
   "language": "python",
   "name": "python3"
  },
  "language_info": {
   "codemirror_mode": {
    "name": "ipython",
    "version": 2
   },
   "file_extension": ".py",
   "mimetype": "text/x-python",
   "name": "python",
   "nbconvert_exporter": "python",
   "pygments_lexer": "ipython2",
   "version": "2.7.6"
  }
 },
 "nbformat": 4,
 "nbformat_minor": 0
}