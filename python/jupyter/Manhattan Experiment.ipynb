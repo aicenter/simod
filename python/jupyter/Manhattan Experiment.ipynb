{
 "cells": [
  {
   "cell_type": "code",
   "execution_count": 1,
   "metadata": {},
   "outputs": [],
   "source": [
    "import sys\n",
    "sys.argv.append(\"-lc=C:/Workspaces/AIC/simod/local_config_files/AIC/vga-manhattan-start_1830-real_speeds.cfg\")"
   ]
  },
  {
   "cell_type": "code",
   "execution_count": 2,
   "metadata": {},
   "outputs": [
    {
     "name": "stderr",
     "output_type": "stream",
     "text": [
      "INFO:root:Loading config for project RoadmaptoolsConfig (can be overwritten later)\n",
      "INFO:root:map_dir: FILL YOUR MAP DIR HERE\n",
      "osm_source_url: https://s3.amazonaws.com/metro-extracts.mapzen.com/valencia_spain.osm.bz2\n",
      "osm_map_filename: FILL YOUR MAP DIR HEREmap.osm\n",
      "filtered_osm_filename: FILL YOUR MAP DIR HEREmap-filtered.osm\n",
      "geojson_file: FILL YOUR MAP DIR HEREmap.geojson\n",
      "cleaned_geojson_file: FILL YOUR MAP DIR HEREmap-cleaned.geojson\n",
      "sanitized_geojson_file: FILL YOUR MAP DIR HEREmap-sanitized.geojson\n",
      "simplified_file: FILL YOUR MAP DIR HEREmap-simplified.geojson\n",
      "simplified_file_with_speed: FILL YOUR MAP DIR HEREmap-simplified-speed.geojson\n",
      "simplified_file_with_speed_and_curvature: FILL YOUR MAP DIR HEREmap-simplified-speed-curvature.geojson\n",
      "ap_nodes_file: FILL YOUR MAP DIR HEREnodes.geojson\n",
      "ap_edges_file: FILL YOUR MAP DIR HEREedges.geojson\n",
      "utm_center_lon: 50.0877506\n",
      "utm_center_lat: 14.4209293\n",
      "shift_utm_coordinate_origin_to_utm_center: False\n",
      "shapely_error_tolerance: 0.005\n",
      "osm_filter_params: --keep=\"highway=motorway =motorway_link =trunk =trunk_link =primary =primary_link =secondary =secondary_link =tertiary =tertiary_link =unclassified =unclassified_link =residential =residential_link =living_street\" --drop=\"access=no\"\n",
      "south: 49.94\n",
      "east: 14.22\n",
      "north: 50.17\n",
      "west: 14.71\n",
      "amodsim_data_dir: C:/AIC Experiment Data/VGA Manhattan/\n",
      "experiments_dir: C:/AIC Experiment Data/VGA Manhattan/experiments/\n",
      "experiment_name: vga-start_1830-real_speeds\n",
      "data_dir: C:/AIC Experiment Data/VGA Manhattan/\n",
      "start_time: 66600000\n",
      "ridesharing.method: vga\n",
      "ridesharing.max_prolongation_in_seconds: 240\n",
      "ridesharing.vga.group_generation_time_limit: 0\n",
      "ridesharing.vga.solver_time_limit: 0\n",
      "ridesharing.vga.solver_min_gap: 0.0002\n",
      "agentpolis.srid: 32618\n",
      "agentpolis.visio.show_visio: False\n",
      "agentpolis.map_edges_filepath: FILL YOUR MAP DIR HEREedges_with_measured_speed.geojson\n",
      "map_envelope[0]: 40.7\n",
      "map_envelope[1]: -74.06\n",
      "map_envelope[2]: 40.82\n",
      "map_envelope[3]: -73.87\n",
      "area_name: New York County\n",
      "\n",
      "INFO:root:Loading config for project AmodsimConfig (can be overwritten later)\n",
      "INFO:root:roadmaptools.map_dir: FILL YOUR MAP DIR HERE\n",
      "roadmaptools.osm_source_url: https://s3.amazonaws.com/metro-extracts.mapzen.com/valencia_spain.osm.bz2\n",
      "roadmaptools.osm_map_filename: FILL YOUR MAP DIR HEREmap.osm\n",
      "roadmaptools.filtered_osm_filename: FILL YOUR MAP DIR HEREmap-filtered.osm\n",
      "roadmaptools.geojson_file: FILL YOUR MAP DIR HEREmap.geojson\n",
      "roadmaptools.cleaned_geojson_file: FILL YOUR MAP DIR HEREmap-cleaned.geojson\n",
      "roadmaptools.sanitized_geojson_file: FILL YOUR MAP DIR HEREmap-sanitized.geojson\n",
      "roadmaptools.simplified_file: FILL YOUR MAP DIR HEREmap-simplified.geojson\n",
      "roadmaptools.simplified_file_with_speed: FILL YOUR MAP DIR HEREmap-simplified-speed.geojson\n",
      "roadmaptools.simplified_file_with_speed_and_curvature: FILL YOUR MAP DIR HEREmap-simplified-speed-curvature.geojson\n",
      "roadmaptools.ap_nodes_file: FILL YOUR MAP DIR HEREnodes.geojson\n",
      "roadmaptools.ap_edges_file: FILL YOUR MAP DIR HEREedges.geojson\n",
      "roadmaptools.utm_center_lon: 50.0877506\n",
      "roadmaptools.utm_center_lat: 14.4209293\n",
      "roadmaptools.shift_utm_coordinate_origin_to_utm_center: False\n",
      "roadmaptools.shapely_error_tolerance: 0.005\n",
      "roadmaptools.osm_filter_params: --keep=\"highway=motorway =motorway_link =trunk =trunk_link =primary =primary_link =secondary =secondary_link =tertiary =tertiary_link =unclassified =unclassified_link =residential =residential_link =living_street\" --drop=\"access=no\"\n",
      "south: 49.94\n",
      "east: 14.22\n",
      "north: 50.17\n",
      "west: 14.71\n",
      "data_dir: C:/AIC Experiment Data/VGA Manhattan/\n",
      "map_dir: C:/AIC Experiment Data/VGA Manhattan/maps/\n",
      "experiments_dir: C:/AIC Experiment Data/VGA Manhattan/experiments/\n",
      "rci_experiments_dir: HERE FILL THE PROJECT RCI EXPERIMENT DIR PATH/\n",
      "experiment_name: vga-start_1830-real_speeds\n",
      "experiment_dir: C:/AIC Experiment Data/VGA Manhattan/experiments/vga-start_1830-real_speeds/\n",
      "critical_density: 0.08\n",
      "simplify_graph: True\n",
      "edges_file_path: C:/AIC Experiment Data/VGA Manhattan/edges\n",
      "edge_pairs_file_path: C:/AIC Experiment Data/VGA Manhattan/edge_pairs\n",
      "trips_filename: trips\n",
      "trips_path: C:/AIC Experiment Data/VGA Manhattan/trips.txt\n",
      "distance_matrix_filepath: C:/AIC Experiment Data/VGA Manhattan/dm.csv\n",
      "station_position_filepath: C:/AIC Experiment Data/VGA Manhattan/station_positions.csv\n",
      "vehicle_speed_in_meters_per_second: 40.0\n",
      "main_roads_graph_filepath: C:/AIC Experiment Data/VGA Manhattan/maps/main_roads_map.geojson\n",
      "trips_multiplier: 3.433\n",
      "uber_speeds_file_path: \n",
      "statistics.result_file_name: result.json\n",
      "statistics.result_file_path: C:/AIC Experiment Data/VGA Manhattan/experiments/vga-start_1830-real_speeds/result.json\n",
      "statistics.all_edges_load_history_file_name: allEdgesLoadHistory.json\n",
      "statistics.all_edges_load_history_file_path: C:/AIC Experiment Data/VGA Manhattan/experiments/vga-start_1830-real_speeds/allEdgesLoadHistory.json\n",
      "statistics.occupancies_file_name: vehicle_occupancy.csv\n",
      "statistics.occupancies_file_path: C:/AIC Experiment Data/VGA Manhattan/experiments/vga-start_1830-real_speeds/vehicle_occupancy.csv\n",
      "statistics.service_file_name: service.csv\n",
      "statistics.transit_file_name: transit.csv\n",
      "statistics.ridesharing_stats_file_name: ridesharing.csv\n",
      "statistics.trip_distances_file_path: C:/AIC Experiment Data/VGA Manhattan/experiments/vga-start_1830-real_speeds/demand_trip_lengths.csv\n",
      "analysis.chosen_window_start: 3\n",
      "analysis.chosen_window_end: 8\n",
      "analysis.trips_multiplier: 1.0\n",
      "images.images_dir: C:/AIC Experiment Data/VGA Manhattan//img/\n",
      "images.occupancy_histogram: C:/AIC Experiment Data/VGA Manhattan//img/occupancy.pdf\n",
      "images.occupancy_histogram_window: C:/AIC Experiment Data/VGA Manhattan//img/occupancy-window.pdf\n",
      "images.occupancy_histogram_comparison: C:/AIC Experiment Data/VGA Manhattan//img/occupancy-comparison-gglimit.pdf\n",
      "images.occupancy_histogram_comparison_combined: C:/AIC Experiment Data/VGA Manhattan//img/occupancy-comparison-gglimit-combined.pdf\n",
      "images.delay_histogram_comparison: C:/AIC Experiment Data/VGA Manhattan//img/delay-comparison-gglimit.pdf\n",
      "images.delay_histogram_comparison_combined: C:/AIC Experiment Data/VGA Manhattan//img/delay-comparison-gglimit-combined.pdf\n",
      "images.traffic_density_map_comparison: C:/AIC Experiment Data/VGA Manhattan//img/traffic_density_map_comparison.png\n",
      "images.ridesharing_performance_comparison: C:/AIC Experiment Data/VGA Manhattan//img/ridesharing_performance_comparison.pdf\n",
      "images.stations: C:/AIC Experiment Data/VGA Manhattan//img/stations.png\n",
      "images.demand_heatmap: C:/AIC Experiment Data/VGA Manhattan//img/demand.png\n",
      "images.distance_delay_tradeoff: C:/AIC Experiment Data/VGA Manhattan//img/distance_delay_tradeoff.pdf\n",
      "images.vga_times: C:/AIC Experiment Data/VGA Manhattan//img/vga_simulation_time.pdf\n",
      "images.vga_group_size: C:/AIC Experiment Data/VGA Manhattan//img/vga_group_size.pdf\n",
      "images.demand_trip_duration_histogram: C:/AIC Experiment Data/VGA Manhattan//img/demand_trip_duration_histogram.pdf\n",
      "images.demand_example: C:/AIC Experiment Data/VGA Manhattan//img/demand_example.png\n",
      "images.sensitivity_analysis: C:/AIC Experiment Data/VGA Manhattan//img/sensitivity_analysis.pdf\n",
      "comparison.experiment_1_name: ih-nr\n",
      "comparison.experiment_1_dir: C:/AIC Experiment Data/VGA Manhattan/experiments/ih-nr/\n",
      "comparison.experiment_2_name: ih\n",
      "comparison.experiment_2_dir: C:/AIC Experiment Data/VGA Manhattan/experiments/ih/\n",
      "comparison.experiment_3_name: vga\n",
      "comparison.experiment_3_dir: C:/AIC Experiment Data/VGA Manhattan/experiments/vga/\n",
      "comparison.experiment_4_name: vga-lim\n",
      "comparison.experiment_4_dir: C:/AIC Experiment Data/VGA Manhattan/experiments/vga-lim/\n",
      "comparison.experiment_5_name: sw-ih-nr\n",
      "comparison.experiment_5_dir: C:/AIC Experiment Data/VGA Manhattan/experiments/sw-ih-nr/\n",
      "comparison.experiment_6_name: sw-ih\n",
      "comparison.experiment_6_dir: C:/AIC Experiment Data/VGA Manhattan/experiments/sw-ih/\n",
      "comparison.experiment_7_name: sw-vga\n",
      "comparison.experiment_7_dir: C:/AIC Experiment Data/VGA Manhattan/experiments/sw-vga/\n",
      "comparison.experiment_8_name: sw-vga-lim\n",
      "comparison.experiment_8_dir: C:/AIC Experiment Data/VGA Manhattan/experiments/sw-vga-lim/\n",
      "comparison.experiment_9_name: vga-pnas\n",
      "comparison.experiment_9_dir: C:/AIC Experiment Data/VGA Manhattan/experiments/vga-pnas/\n",
      "comparison.experiment_10_name: sw-vga-pnas\n",
      "comparison.experiment_10_dir: C:/AIC Experiment Data/VGA Manhattan/experiments/sw-vga-pnas/\n",
      "ridesharing.max_prolongation_in_seconds: 240\n",
      "ridesharing.method: vga\n",
      "ridesharing.vga.group_generation_time_limit: 0\n",
      "ridesharing.vga.solver_time_limit: 0\n",
      "ridesharing.vga.solver_min_gap: 0.0002\n",
      "agentpolis.map_nodes_filepath: C:/AIC Experiment Data/VGA Manhattan/maps/nodes.geojson\n",
      "agentpolis.map_edges_filepath: C:/AIC Experiment Data/VGA Manhattan/maps/edges_with_measured_speed.geojson\n",
      "agentpolis.srid: 32618\n",
      "agentpolis.visio.show_visio: False\n",
      "amodsim_data_dir: C:/AIC Experiment Data/VGA Manhattan/\n",
      "start_time: 66600000\n",
      "map_envelope[0]: 40.7\n",
      "map_envelope[1]: -74.06\n",
      "map_envelope[2]: 40.82\n",
      "map_envelope[3]: -73.87\n",
      "area_name: New York County\n",
      "\n"
     ]
    }
   ],
   "source": [
    "from amodsim.init import config"
   ]
  },
  {
   "cell_type": "code",
   "execution_count": 3,
   "metadata": {},
   "outputs": [],
   "source": [
    "import amodsim.statistics.model.occupancy as occupancy"
   ]
  },
  {
   "cell_type": "code",
   "execution_count": 6,
   "metadata": {},
   "outputs": [],
   "source": [
    "experiment_dir = r\"C:\\AIC Experiment Data\\VGA Manhattan\\experiments\\vga-start_1830-real_speeds/\""
   ]
  },
  {
   "cell_type": "code",
   "execution_count": 7,
   "metadata": {},
   "outputs": [],
   "source": [
    "data = occupancy.load(experiment_dir)"
   ]
  },
  {
   "cell_type": "code",
   "execution_count": 10,
   "metadata": {},
   "outputs": [],
   "source": [
    "occupancies_in_window = occupancy.get_occupancies(data, True)"
   ]
  },
  {
   "cell_type": "code",
   "execution_count": 12,
   "metadata": {},
   "outputs": [
    {
     "data": {
      "text/plain": [
       "2.2257898267638114"
      ]
     },
     "execution_count": 12,
     "metadata": {},
     "output_type": "execute_result"
    }
   ],
   "source": [
    "occupancies_in_window.mean()"
   ]
  },
  {
   "cell_type": "code",
   "execution_count": null,
   "metadata": {},
   "outputs": [],
   "source": []
  }
 ],
 "metadata": {
  "kernelspec": {
   "display_name": "Python 3",
   "language": "python",
   "name": "python3"
  },
  "language_info": {
   "codemirror_mode": {
    "name": "ipython",
    "version": 3
   },
   "file_extension": ".py",
   "mimetype": "text/x-python",
   "name": "python",
   "nbconvert_exporter": "python",
   "pygments_lexer": "ipython3",
   "version": "3.9.0"
  }
 },
 "nbformat": 4,
 "nbformat_minor": 4
}
