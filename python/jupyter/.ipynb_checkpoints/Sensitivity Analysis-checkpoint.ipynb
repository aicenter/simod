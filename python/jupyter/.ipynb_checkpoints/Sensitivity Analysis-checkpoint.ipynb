{
 "cells": [
  {
   "cell_type": "code",
   "execution_count": 1,
   "metadata": {},
   "outputs": [],
   "source": [
    "import sys\n",
    "sys.argv.append(\"-lc=C:/Workspaces/AIC/simod/local_config_files/fido-PC.cfg\")"
   ]
  },
  {
   "cell_type": "code",
   "execution_count": 2,
   "metadata": {},
   "outputs": [
    {
     "name": "stderr",
     "output_type": "stream",
     "text": [
      "INFO:root:Loading config for project RoadmaptoolsConfig (can be overwritten later)\n",
      "INFO:root:map_dir: C:/AIC Experiment Data/VGA/maps/\n",
      "osm_source_url: https://s3.amazonaws.com/metro-extracts.mapzen.com/valencia_spain.osm.bz2\n",
      "osm_map_filename: C:/AIC Experiment Data/VGA/maps/map.osm\n",
      "filtered_osm_filename: C:/AIC Experiment Data/VGA/maps/map-filtered.osm\n",
      "geojson_file: C:/AIC Experiment Data/VGA/maps/map.geojson\n",
      "cleaned_geojson_file: C:/AIC Experiment Data/VGA/maps/map-cleaned.geojson\n",
      "sanitized_geojson_file: C:/AIC Experiment Data/VGA/maps/map-sanitized.geojson\n",
      "simplified_file: C:/AIC Experiment Data/VGA/maps/map-simplified.geojson\n",
      "simplified_file_with_speed: C:/AIC Experiment Data/VGA/maps/map-simplified-speed.geojson\n",
      "simplified_file_with_speed_and_curvature: C:/AIC Experiment Data/VGA/maps/map-simplified-speed-curvature.geojson\n",
      "ap_nodes_file: C:/AIC Experiment Data/VGA/maps/nodes.geojson\n",
      "ap_edges_file: C:/AIC Experiment Data/VGA/maps/edges.geojson\n",
      "utm_center_lon: 50.0877506\n",
      "utm_center_lat: 14.4209293\n",
      "shift_utm_coordinate_origin_to_utm_center: False\n",
      "shapely_error_tolerance: 0.005\n",
      "osm_filter_params: --keep=\"highway=motorway =motorway_link =trunk =trunk_link =primary =primary_link =secondary =secondary_link =tertiary =tertiary_link =unclassified =unclassified_link =residential =residential_link =living_street\" --drop=\"access=no\"\n",
      "south: 49.94\n",
      "east: 14.22\n",
      "north: 50.17\n",
      "west: 14.71\n",
      "amodsim_data_dir: C:/AIC Experiment Data/VGA/\n",
      "experiments_dir: C:/AIC Experiment Data/VGA/experiments/\n",
      "trips_file_path: C:/AIC Experiment Data/VGA/trips.txt\n",
      "images.images_dir: C:/AIC Experiment Data/VGA/img/\n",
      "ridesharing.weight_parameter: 0.0\n",
      "ridesharing.max_prolongation_in_seconds: 420\n",
      "ridesharing.travel_time_provider: tnraf\n",
      "ridesharing.vga.log_plan_computational_time: True\n",
      "ridesharing.vga.group_generation_time_limit: 0\n",
      "ridesharing.vga.export_group_data: True\n",
      "agentpolis.visio.show_visio: True\n",
      "\n",
      "INFO:root:Loading config for project AmodsimConfig (can be overwritten later)\n",
      "INFO:root:roadmaptools.map_dir: FILL YOUR MAP DIR HERE\n",
      "roadmaptools.osm_source_url: https://s3.amazonaws.com/metro-extracts.mapzen.com/valencia_spain.osm.bz2\n",
      "roadmaptools.osm_map_filename: FILL YOUR MAP DIR HEREmap.osm\n",
      "roadmaptools.filtered_osm_filename: FILL YOUR MAP DIR HEREmap-filtered.osm\n",
      "roadmaptools.geojson_file: FILL YOUR MAP DIR HEREmap.geojson\n",
      "roadmaptools.cleaned_geojson_file: FILL YOUR MAP DIR HEREmap-cleaned.geojson\n",
      "roadmaptools.sanitized_geojson_file: FILL YOUR MAP DIR HEREmap-sanitized.geojson\n",
      "roadmaptools.simplified_file: FILL YOUR MAP DIR HEREmap-simplified.geojson\n",
      "roadmaptools.simplified_file_with_speed: FILL YOUR MAP DIR HEREmap-simplified-speed.geojson\n",
      "roadmaptools.simplified_file_with_speed_and_curvature: FILL YOUR MAP DIR HEREmap-simplified-speed-curvature.geojson\n",
      "roadmaptools.ap_nodes_file: FILL YOUR MAP DIR HEREnodes.geojson\n",
      "roadmaptools.ap_edges_file: FILL YOUR MAP DIR HEREedges.geojson\n",
      "roadmaptools.utm_center_lon: 50.0877506\n",
      "roadmaptools.utm_center_lat: 14.4209293\n",
      "roadmaptools.shift_utm_coordinate_origin_to_utm_center: False\n",
      "roadmaptools.shapely_error_tolerance: 0.005\n",
      "roadmaptools.osm_filter_params: --keep=\"highway=motorway =motorway_link =trunk =trunk_link =primary =primary_link =secondary =secondary_link =tertiary =tertiary_link =unclassified =unclassified_link =residential =residential_link =living_street\" --drop=\"access=no\"\n",
      "south: 49.94\n",
      "east: 14.22\n",
      "north: 50.17\n",
      "west: 14.71\n",
      "data_dir: C:/AIC data/Shared/amod-data/VGA Evaluation/\n",
      "map_dir: C:/AIC Experiment Data/VGA/maps/\n",
      "experiments_dir: C:/AIC Experiment Data/VGA/experiments/\n",
      "rci_experiments_dir: HERE FILL THE PROJECT RCI EXPERIMENT DIR PATH/\n",
      "experiment_name: test\n",
      "experiment_dir: C:/AIC Experiment Data/VGA/experiments/test/\n",
      "critical_density: 0.08\n",
      "simplify_graph: True\n",
      "edges_file_path: C:/AIC data/Shared/amod-data/VGA Evaluation/edges\n",
      "edge_pairs_file_path: C:/AIC data/Shared/amod-data/VGA Evaluation/edge_pairs\n",
      "trips_filename: trips\n",
      "trips_path: C:/AIC data/Shared/amod-data/VGA Evaluation/trips.txt\n",
      "distance_matrix_filepath: C:/AIC data/Shared/amod-data/VGA Evaluation/dm.csv\n",
      "station_position_filepath: C:/AIC data/Shared/amod-data/VGA Evaluation/station_positions.csv\n",
      "vehicle_speed_in_meters_per_second: 40.0\n",
      "main_roads_graph_filepath: C:/AIC Experiment Data/VGA/maps/main_roads_map.geojson\n",
      "trips_multiplier: 3.433\n",
      "uber_speeds_file_path: \n",
      "statistics.result_file_name: result.json\n",
      "statistics.result_file_path: C:/AIC Experiment Data/VGA/experiments/test/result.json\n",
      "statistics.all_edges_load_history_file_name: allEdgesLoadHistory.json\n",
      "statistics.all_edges_load_history_file_path: C:/AIC Experiment Data/VGA/experiments/test/allEdgesLoadHistory.json\n",
      "statistics.occupancies_file_name: vehicle_occupancy.csv\n",
      "statistics.occupancies_file_path: C:/AIC Experiment Data/VGA/experiments/test/vehicle_occupancy.csv\n",
      "statistics.service_file_name: service.csv\n",
      "statistics.transit_file_name: transit.csv\n",
      "statistics.ridesharing_stats_file_name: ridesharing.csv\n",
      "statistics.trip_distances_file_path: C:/AIC Experiment Data/VGA/experiments/test/demand_trip_lengths.csv\n",
      "analysis.chosen_window_start: 3\n",
      "analysis.chosen_window_end: 8\n",
      "analysis.trips_multiplier: 1.0\n",
      "images.images_dir: C:/AIC Experiment Data/VGA/img/\n",
      "images.occupancy_histogram: C:/AIC Experiment Data/VGA/img/occupancy.pdf\n",
      "images.occupancy_histogram_window: C:/AIC Experiment Data/VGA/img/occupancy-window.pdf\n",
      "images.occupancy_histogram_comparison: C:/AIC Experiment Data/VGA/img/occupancy-comparison-gglimit.pdf\n",
      "images.occupancy_histogram_comparison_combined: C:/AIC Experiment Data/VGA/img/occupancy-comparison-gglimit-combined.pdf\n",
      "images.delay_histogram_comparison: C:/AIC Experiment Data/VGA/img/delay-comparison-gglimit.pdf\n",
      "images.delay_histogram_comparison_combined: C:/AIC Experiment Data/VGA/img/delay-comparison-gglimit-combined.pdf\n",
      "images.traffic_density_map_comparison: C:/AIC Experiment Data/VGA/img/traffic_density_map_comparison.png\n",
      "images.ridesharing_performance_comparison: C:/AIC Experiment Data/VGA/img/ridesharing_performance_comparison.pdf\n",
      "images.stations: C:/AIC Experiment Data/VGA/img/stations.png\n",
      "images.demand_heatmap: C:/AIC Experiment Data/VGA/img/demand.png\n",
      "images.distance_delay_tradeoff: C:/AIC Experiment Data/VGA/img/distance_delay_tradeoff.pdf\n",
      "images.vga_times: C:/AIC Experiment Data/VGA/img/vga_simulation_time.pdf\n",
      "images.vga_group_size: C:/AIC Experiment Data/VGA/img/vga_group_size.pdf\n",
      "images.demand_trip_duration_histogram: C:/AIC Experiment Data/VGA/img/demand_trip_duration_histogram.pdf\n",
      "images.demand_example: C:/AIC Experiment Data/VGA/img/demand_example.png\n",
      "images.sensitivity_analysis: C:/AIC Experiment Data/VGA/img/sensitivity_analysis.pdf\n",
      "comparison.experiment_1_name: ih-nr\n",
      "comparison.experiment_1_dir: C:/AIC Experiment Data/VGA/experiments/ih-nr/\n",
      "comparison.experiment_2_name: ih\n",
      "comparison.experiment_2_dir: C:/AIC Experiment Data/VGA/experiments/ih/\n",
      "comparison.experiment_3_name: vga\n",
      "comparison.experiment_3_dir: C:/AIC Experiment Data/VGA/experiments/vga/\n",
      "comparison.experiment_4_name: vga-lim\n",
      "comparison.experiment_4_dir: C:/AIC Experiment Data/VGA/experiments/vga-lim/\n",
      "comparison.experiment_5_name: sw-ih-nr\n",
      "comparison.experiment_5_dir: C:/AIC Experiment Data/VGA/experiments/sw-ih-nr/\n",
      "comparison.experiment_6_name: sw-ih\n",
      "comparison.experiment_6_dir: C:/AIC Experiment Data/VGA/experiments/sw-ih/\n",
      "comparison.experiment_7_name: sw-vga\n",
      "comparison.experiment_7_dir: C:/AIC Experiment Data/VGA/experiments/sw-vga/\n",
      "comparison.experiment_8_name: sw-vga-lim\n",
      "comparison.experiment_8_dir: C:/AIC Experiment Data/VGA/experiments/sw-vga-lim/\n",
      "comparison.experiment_9_name: vga-pnas\n",
      "comparison.experiment_9_dir: C:/AIC Experiment Data/VGA/experiments/vga-pnas/\n",
      "comparison.experiment_10_name: sw-vga-pnas\n",
      "comparison.experiment_10_dir: C:/AIC Experiment Data/VGA/experiments/sw-vga-pnas/\n",
      "ridesharing.max_prolongation_in_seconds: 420\n",
      "ridesharing.weight_parameter: 0.0\n",
      "ridesharing.travel_time_provider: tnraf\n",
      "ridesharing.vga.log_plan_computational_time: True\n",
      "ridesharing.vga.group_generation_time_limit: 0\n",
      "ridesharing.vga.export_group_data: True\n",
      "agentpolis.map_nodes_filepath: C:/AIC Experiment Data/VGA/maps/nodes.geojson\n",
      "agentpolis.map_edges_filepath: C:/AIC Experiment Data/VGA/maps/edges.geojson\n",
      "agentpolis.visio.show_visio: True\n",
      "amodsim_data_dir: C:/AIC Experiment Data/VGA/\n",
      "trips_file_path: C:/AIC Experiment Data/VGA/trips.txt\n",
      "\n"
     ]
    }
   ],
   "source": [
    "from amodsim.init import config"
   ]
  },
  {
   "cell_type": "code",
   "execution_count": 35,
   "metadata": {},
   "outputs": [],
   "source": [
    "from typing import List, Tuple, Dict\n",
    "import roadmaptools.inout\n",
    "import amodsim.statistics.model.edges as edges\n",
    "import amodsim.statistics.model.transit as transit\n",
    "import amodsim.statistics.model.ridesharing as ridesharing\n",
    "import amodsim.statistics.model.service as service\n",
    "import amodsim.statistics.comparisons.common as common\n",
    "import matplotlib.pyplot as plt"
   ]
  },
  {
   "cell_type": "code",
   "execution_count": 27,
   "metadata": {},
   "outputs": [],
   "source": [
    "peak_experiments = {\n",
    "    'delay_experiments': [\n",
    "        [\"vga-max_delay_3_min\", \"vga\"],\n",
    "        [\"vga-lim-max_delay_3_min\", \"vga-lim\", \"vga-lim-max_delay_5_min\", \"vga-lim-max_delay_6_min\"],\n",
    "        [\"vga-pnas-max_delay_3_min\", \"vga-pnas\", \"vga-pnas-max_delay_5_min\", \"vga-pnas-max_delay_6_min\"]\n",
    "    ],\n",
    "    'batch_experiments': [\n",
    "        [\"vga\"],\n",
    "        [\"vga-lim\", \"vga-lim-batch_60s\", \"vga-lim-batch_90s\", \"vga-lim-batch_120s\"],\n",
    "        [\"vga-pnas\", \"vga-pnas-batch_60s\", \"vga-pnas-batch_90s\", \"vga-pnas-batch_120s\"]\n",
    "    ]\n",
    "}\n",
    "\n",
    "off_peak_experiment = {\n",
    "    'delay_experiments': [\n",
    "        [\"sw-vga-max_delay_3_min\", \"sw-vga\", \"sw-vga-max_delay_5_min\", \"sw-vga-max_delay_6_min\"],\n",
    "        [\"sw-vga-lim-max_delay_3_min\", \"sw-vga-lim\", \"sw-vga-lim-max_delay_5_min\", \"sw-vga-lim-max_delay_6_min\"],\n",
    "        [\"sw-vga-pnas-max_delay_3_min\", \"sw-vga-pnas\", \"sw-vga-pnas-max_delay_5_min\", \"sw-vga-pnas-max_delay_6_min\"]\n",
    "    ],\n",
    "    'batch_experiments': [\n",
    "        [\"sw-vga\", \"sw-vga-batch_60s\", \"sw-vga-batch_90s\", \"sw-vga-batch_120s\"],\n",
    "        [\"sw-vga-lim\", \"sw-vga-lim-batch_60s\", \"sw-vga-lim-batch_90s\", \"sw-vga-lim-batch_120s\"],\n",
    "        [\"sw-vga-pnas\", \"sw-vga-pnas-batch_60s\", \"sw-vga-pnas-batch_90s\", \"sw-vga-pnas-batch_120s\"]\n",
    "    ]\n",
    "}\n"
   ]
  },
  {
   "cell_type": "code",
   "execution_count": 10,
   "metadata": {},
   "outputs": [
    {
     "name": "stdout",
     "output_type": "stream",
     "text": [
      "[09:50:56]: Loading geojson file from: C:\\AIC Experiment Data\\VGA\\maps\\edges.geojson\n"
     ]
    }
   ],
   "source": [
    "loaded_edges = roadmaptools.inout.load_geojson(config.agentpolis.map_edges_filepath)\n",
    "edge_data = edges.make_data_frame(loaded_edges)"
   ]
  },
  {
   "cell_type": "code",
   "execution_count": 11,
   "metadata": {},
   "outputs": [],
   "source": [
    "def load_experiment_data(experiment_name: str):\n",
    "    \n",
    "    # distance\n",
    "    experiment_dir = \"{}/{}/\".format(config.experiments_dir, experiment_name)\n",
    "    transit_data = transit.load(experiment_dir)\n",
    "    km_total_window = int(round(transit.get_total_distance(transit_data, edge_data, True) / 1000 / 100))\n",
    "    \n",
    "    # time\n",
    "    performance_data = ridesharing.load(experiment_dir)\n",
    "    avg_time = performance_data['Group Generation Time'].mean() + performance_data['Solver Time'].mean()\n",
    "    # avg_time = int(round(avg_time / 1000))\n",
    "    avg_time = int(round(avg_time))\n",
    "    \n",
    "    # delay\n",
    "    service_stat = service.load_dataframe(experiment_dir)\n",
    "    delays_window = service.get_delays(service_stat, True, False)\n",
    "    mean_delay = int(round(delays_window.mean() / 1000))\n",
    "    \n",
    "    return km_total_window, avg_time, mean_delay    "
   ]
  },
  {
   "cell_type": "code",
   "execution_count": 13,
   "metadata": {},
   "outputs": [],
   "source": [
    "def plot_ax(xvalues, data: List[float], axis):\n",
    "    axis.plot(xvalues, data, marker='o', linestyle='dashed', color='black')"
   ]
  },
  {
   "cell_type": "code",
   "execution_count": 14,
   "metadata": {},
   "outputs": [],
   "source": [
    "x_values_delay = [3, 4, 5, 6]\n",
    "x_values_batch = [30, 60, 90, 120]"
   ]
  },
  {
   "cell_type": "code",
   "execution_count": 33,
   "metadata": {},
   "outputs": [],
   "source": [
    "def load_experiments(experiments: Dict[str, List[List[str]]]):\n",
    "    speed_data = []\n",
    "    tt_data = []\n",
    "    delay_data = []\n",
    "    \n",
    "    for experiment_set in experiments.values():\n",
    "        for method in experiment_set:\n",
    "            for exp_name in method:\n",
    "                record = load_experiment_data(exp_name)\n",
    "                speed_data.append(record[0])\n",
    "                tt_data.append(record[1])\n",
    "                delay_data.append(record[2])\n",
    "                \n",
    "    speed_data = [rec / 1000 for rec in speed_data]\n",
    "    tt_data = [rec / 1000 for rec in tt_data]\n",
    "    \n",
    "    return speed_data, tt_data, delay_data"
   ]
  },
  {
   "cell_type": "code",
   "execution_count": 34,
   "metadata": {},
   "outputs": [
    {
     "name": "stdout",
     "output_type": "stream",
     "text": [
      "[18:10:13]: Loading csv file from: C:\\AIC Experiment Data\\VGA\\experiments\\vga-max_delay_3_min\\ridesharing.csv to dataframe\n",
      "[18:10:17]: Loading csv file from: C:\\AIC Experiment Data\\VGA\\experiments\\vga\\ridesharing.csv to dataframe\n",
      "[18:10:22]: Loading csv file from: C:\\AIC Experiment Data\\VGA\\experiments\\vga-lim-max_delay_3_min\\ridesharing.csv to dataframe\n",
      "[18:10:27]: Loading csv file from: C:\\AIC Experiment Data\\VGA\\experiments\\vga-lim\\ridesharing.csv to dataframe\n",
      "[18:10:32]: Loading csv file from: C:\\AIC Experiment Data\\VGA\\experiments\\vga-lim-max_delay_5_min\\ridesharing.csv to dataframe\n",
      "[18:10:37]: Loading csv file from: C:\\AIC Experiment Data\\VGA\\experiments\\vga-lim-max_delay_6_min\\ridesharing.csv to dataframe\n",
      "[18:10:42]: Loading csv file from: C:\\AIC Experiment Data\\VGA\\experiments\\vga-pnas-max_delay_3_min\\ridesharing.csv to dataframe\n",
      "[18:10:47]: Loading csv file from: C:\\AIC Experiment Data\\VGA\\experiments\\vga-pnas\\ridesharing.csv to dataframe\n",
      "[18:10:53]: Loading csv file from: C:\\AIC Experiment Data\\VGA\\experiments\\vga-pnas-max_delay_5_min\\ridesharing.csv to dataframe\n",
      "[18:10:58]: Loading csv file from: C:\\AIC Experiment Data\\VGA\\experiments\\vga-pnas-max_delay_6_min\\ridesharing.csv to dataframe\n",
      "[18:11:02]: Loading csv file from: C:\\AIC Experiment Data\\VGA\\experiments\\vga\\ridesharing.csv to dataframe\n",
      "[18:11:06]: Loading csv file from: C:\\AIC Experiment Data\\VGA\\experiments\\vga-lim\\ridesharing.csv to dataframe\n",
      "[18:11:11]: Loading csv file from: C:\\AIC Experiment Data\\VGA\\experiments\\vga-lim-batch_60s\\ridesharing.csv to dataframe\n",
      "[18:11:17]: Loading csv file from: C:\\AIC Experiment Data\\VGA\\experiments\\vga-lim-batch_90s\\ridesharing.csv to dataframe\n",
      "[18:11:22]: Loading csv file from: C:\\AIC Experiment Data\\VGA\\experiments\\vga-lim-batch_120s\\ridesharing.csv to dataframe\n",
      "[18:11:27]: Loading csv file from: C:\\AIC Experiment Data\\VGA\\experiments\\vga-pnas\\ridesharing.csv to dataframe\n",
      "[18:11:32]: Loading csv file from: C:\\AIC Experiment Data\\VGA\\experiments\\vga-pnas-batch_60s\\ridesharing.csv to dataframe\n",
      "[18:11:37]: Loading csv file from: C:\\AIC Experiment Data\\VGA\\experiments\\vga-pnas-batch_90s\\ridesharing.csv to dataframe\n",
      "[18:11:41]: Loading csv file from: C:\\AIC Experiment Data\\VGA\\experiments\\vga-pnas-batch_120s\\ridesharing.csv to dataframe\n"
     ]
    }
   ],
   "source": [
    "speed_data, tt_data, delay_data = load_experiments(peak_experiments)"
   ]
  },
  {
   "cell_type": "code",
   "execution_count": 48,
   "metadata": {},
   "outputs": [],
   "source": [
    "def plot_sensitivity_analysis(experiments: Dict[str, List[List[str]]], speed_data, tt_data, delay_data):\n",
    "    fig, axes = plt.subplots(3, 2, sharex='col')\n",
    "    axes[0][0].set_ylabel(\"Total Distance \\n\" r\"[km $\\cdot 10^3$]\")\n",
    "    axes[1][0].set_ylabel(\"Avg. comp. \\n time [s]\")\n",
    "    axes[2][0].set_ylabel(\"Avg. delay [s]\")\n",
    "    axes[2][0].set_xlabel(r\"Batch length [s]\")\n",
    "    axes[2][0].set_xticks(x_values_batch)\n",
    "    axes[2][1].set_xlabel(r\"Max delay [min]\")\n",
    "    \n",
    "    axis = 1\n",
    "    x_values = x_values_delay\n",
    "    to_index = 0\n",
    "    from_index = 0\n",
    "    for experiment_set in experiments.values():\n",
    "        for method in experiment_set:\n",
    "            to_index += len(method)\n",
    "            \n",
    "            plot_ax(x_values[:min(to_index,4)], speed_data[from_index:to_index], axes[0][axis])\n",
    "            plot_ax(x_values[:min(to_index,4)], tt_data[from_index:to_index], axes[1][axis])\n",
    "            plot_ax(x_values[:min(to_index,4)], delay_data[from_index:to_index], axes[2][axis])\n",
    "\n",
    "            from_index = to_index\n",
    "            \n",
    "            \n",
    "        axis = 0\n",
    "        x_values = x_values_batch"
   ]
  },
  {
   "cell_type": "code",
   "execution_count": 49,
   "metadata": {},
   "outputs": [
    {
     "ename": "ValueError",
     "evalue": "x and y must have same first dimension, but have shapes (4,) and (2,)",
     "output_type": "error",
     "traceback": [
      "\u001b[1;31m---------------------------------------------------------------------------\u001b[0m",
      "\u001b[1;31mValueError\u001b[0m                                Traceback (most recent call last)",
      "\u001b[1;32m<ipython-input-49-90884766d411>\u001b[0m in \u001b[0;36m<module>\u001b[1;34m\u001b[0m\n\u001b[1;32m----> 1\u001b[1;33m \u001b[0mplot_sensitivity_analysis\u001b[0m\u001b[1;33m(\u001b[0m\u001b[0mpeak_experiments\u001b[0m\u001b[1;33m,\u001b[0m \u001b[0mspeed_data\u001b[0m\u001b[1;33m,\u001b[0m \u001b[0mtt_data\u001b[0m\u001b[1;33m,\u001b[0m \u001b[0mdelay_data\u001b[0m\u001b[1;33m)\u001b[0m\u001b[1;33m\u001b[0m\u001b[1;33m\u001b[0m\u001b[0m\n\u001b[0m",
      "\u001b[1;32m<ipython-input-48-d66ea4cd6725>\u001b[0m in \u001b[0;36mplot_sensitivity_analysis\u001b[1;34m(experiments, speed_data, tt_data, delay_data)\u001b[0m\n\u001b[0;32m     14\u001b[0m     \u001b[1;32mfor\u001b[0m \u001b[0mexperiment_set\u001b[0m \u001b[1;32min\u001b[0m \u001b[0mexperiments\u001b[0m\u001b[1;33m.\u001b[0m\u001b[0mvalues\u001b[0m\u001b[1;33m(\u001b[0m\u001b[1;33m)\u001b[0m\u001b[1;33m:\u001b[0m\u001b[1;33m\u001b[0m\u001b[1;33m\u001b[0m\u001b[0m\n\u001b[0;32m     15\u001b[0m         \u001b[1;32mfor\u001b[0m \u001b[0mmethod\u001b[0m \u001b[1;32min\u001b[0m \u001b[0mexperiment_set\u001b[0m\u001b[1;33m:\u001b[0m\u001b[1;33m\u001b[0m\u001b[1;33m\u001b[0m\u001b[0m\n\u001b[1;32m---> 16\u001b[1;33m             \u001b[0mplot_ax\u001b[0m\u001b[1;33m(\u001b[0m\u001b[0mx_values\u001b[0m\u001b[1;33m[\u001b[0m\u001b[1;33m:\u001b[0m\u001b[0mmin\u001b[0m\u001b[1;33m(\u001b[0m\u001b[0mto_index\u001b[0m\u001b[1;33m,\u001b[0m\u001b[1;36m4\u001b[0m\u001b[1;33m)\u001b[0m\u001b[1;33m]\u001b[0m\u001b[1;33m,\u001b[0m \u001b[0mspeed_data\u001b[0m\u001b[1;33m[\u001b[0m\u001b[0mfrom_index\u001b[0m\u001b[1;33m:\u001b[0m\u001b[0mto_index\u001b[0m\u001b[1;33m]\u001b[0m\u001b[1;33m,\u001b[0m \u001b[0maxes\u001b[0m\u001b[1;33m[\u001b[0m\u001b[1;36m0\u001b[0m\u001b[1;33m]\u001b[0m\u001b[1;33m[\u001b[0m\u001b[0maxis\u001b[0m\u001b[1;33m]\u001b[0m\u001b[1;33m)\u001b[0m\u001b[1;33m\u001b[0m\u001b[1;33m\u001b[0m\u001b[0m\n\u001b[0m\u001b[0;32m     17\u001b[0m             \u001b[0mplot_ax\u001b[0m\u001b[1;33m(\u001b[0m\u001b[0mx_values\u001b[0m\u001b[1;33m[\u001b[0m\u001b[1;33m:\u001b[0m\u001b[0mmin\u001b[0m\u001b[1;33m(\u001b[0m\u001b[0mto_index\u001b[0m\u001b[1;33m,\u001b[0m\u001b[1;36m4\u001b[0m\u001b[1;33m)\u001b[0m\u001b[1;33m]\u001b[0m\u001b[1;33m,\u001b[0m \u001b[0mtt_data\u001b[0m\u001b[1;33m[\u001b[0m\u001b[0mfrom_index\u001b[0m\u001b[1;33m:\u001b[0m\u001b[0mto_index\u001b[0m\u001b[1;33m]\u001b[0m\u001b[1;33m,\u001b[0m \u001b[0maxes\u001b[0m\u001b[1;33m[\u001b[0m\u001b[1;36m1\u001b[0m\u001b[1;33m]\u001b[0m\u001b[1;33m[\u001b[0m\u001b[0maxis\u001b[0m\u001b[1;33m]\u001b[0m\u001b[1;33m)\u001b[0m\u001b[1;33m\u001b[0m\u001b[1;33m\u001b[0m\u001b[0m\n\u001b[0;32m     18\u001b[0m             \u001b[0mplot_ax\u001b[0m\u001b[1;33m(\u001b[0m\u001b[0mx_values\u001b[0m\u001b[1;33m[\u001b[0m\u001b[1;33m:\u001b[0m\u001b[0mmin\u001b[0m\u001b[1;33m(\u001b[0m\u001b[0mto_index\u001b[0m\u001b[1;33m,\u001b[0m\u001b[1;36m4\u001b[0m\u001b[1;33m)\u001b[0m\u001b[1;33m]\u001b[0m\u001b[1;33m,\u001b[0m \u001b[0mdelay_data\u001b[0m\u001b[1;33m[\u001b[0m\u001b[0mfrom_index\u001b[0m\u001b[1;33m:\u001b[0m\u001b[0mto_index\u001b[0m\u001b[1;33m]\u001b[0m\u001b[1;33m,\u001b[0m \u001b[0maxes\u001b[0m\u001b[1;33m[\u001b[0m\u001b[1;36m2\u001b[0m\u001b[1;33m]\u001b[0m\u001b[1;33m[\u001b[0m\u001b[0maxis\u001b[0m\u001b[1;33m]\u001b[0m\u001b[1;33m)\u001b[0m\u001b[1;33m\u001b[0m\u001b[1;33m\u001b[0m\u001b[0m\n",
      "\u001b[1;32m<ipython-input-13-0dac6d785a7f>\u001b[0m in \u001b[0;36mplot_ax\u001b[1;34m(xvalues, data, axis)\u001b[0m\n\u001b[0;32m      1\u001b[0m \u001b[1;32mdef\u001b[0m \u001b[0mplot_ax\u001b[0m\u001b[1;33m(\u001b[0m\u001b[0mxvalues\u001b[0m\u001b[1;33m,\u001b[0m \u001b[0mdata\u001b[0m\u001b[1;33m:\u001b[0m \u001b[0mList\u001b[0m\u001b[1;33m[\u001b[0m\u001b[0mfloat\u001b[0m\u001b[1;33m]\u001b[0m\u001b[1;33m,\u001b[0m \u001b[0maxis\u001b[0m\u001b[1;33m)\u001b[0m\u001b[1;33m:\u001b[0m\u001b[1;33m\u001b[0m\u001b[1;33m\u001b[0m\u001b[0m\n\u001b[1;32m----> 2\u001b[1;33m     \u001b[0maxis\u001b[0m\u001b[1;33m.\u001b[0m\u001b[0mplot\u001b[0m\u001b[1;33m(\u001b[0m\u001b[0mxvalues\u001b[0m\u001b[1;33m,\u001b[0m \u001b[0mdata\u001b[0m\u001b[1;33m,\u001b[0m \u001b[0mmarker\u001b[0m\u001b[1;33m=\u001b[0m\u001b[1;34m'o'\u001b[0m\u001b[1;33m,\u001b[0m \u001b[0mlinestyle\u001b[0m\u001b[1;33m=\u001b[0m\u001b[1;34m'dashed'\u001b[0m\u001b[1;33m,\u001b[0m \u001b[0mcolor\u001b[0m\u001b[1;33m=\u001b[0m\u001b[1;34m'black'\u001b[0m\u001b[1;33m)\u001b[0m\u001b[1;33m\u001b[0m\u001b[1;33m\u001b[0m\u001b[0m\n\u001b[0m",
      "\u001b[1;32mc:\\program files\\python39\\lib\\site-packages\\matplotlib\\axes\\_axes.py\u001b[0m in \u001b[0;36mplot\u001b[1;34m(self, scalex, scaley, data, *args, **kwargs)\u001b[0m\n\u001b[0;32m   1741\u001b[0m         \"\"\"\n\u001b[0;32m   1742\u001b[0m         \u001b[0mkwargs\u001b[0m \u001b[1;33m=\u001b[0m \u001b[0mcbook\u001b[0m\u001b[1;33m.\u001b[0m\u001b[0mnormalize_kwargs\u001b[0m\u001b[1;33m(\u001b[0m\u001b[0mkwargs\u001b[0m\u001b[1;33m,\u001b[0m \u001b[0mmlines\u001b[0m\u001b[1;33m.\u001b[0m\u001b[0mLine2D\u001b[0m\u001b[1;33m)\u001b[0m\u001b[1;33m\u001b[0m\u001b[1;33m\u001b[0m\u001b[0m\n\u001b[1;32m-> 1743\u001b[1;33m         \u001b[0mlines\u001b[0m \u001b[1;33m=\u001b[0m \u001b[1;33m[\u001b[0m\u001b[1;33m*\u001b[0m\u001b[0mself\u001b[0m\u001b[1;33m.\u001b[0m\u001b[0m_get_lines\u001b[0m\u001b[1;33m(\u001b[0m\u001b[1;33m*\u001b[0m\u001b[0margs\u001b[0m\u001b[1;33m,\u001b[0m \u001b[0mdata\u001b[0m\u001b[1;33m=\u001b[0m\u001b[0mdata\u001b[0m\u001b[1;33m,\u001b[0m \u001b[1;33m**\u001b[0m\u001b[0mkwargs\u001b[0m\u001b[1;33m)\u001b[0m\u001b[1;33m]\u001b[0m\u001b[1;33m\u001b[0m\u001b[1;33m\u001b[0m\u001b[0m\n\u001b[0m\u001b[0;32m   1744\u001b[0m         \u001b[1;32mfor\u001b[0m \u001b[0mline\u001b[0m \u001b[1;32min\u001b[0m \u001b[0mlines\u001b[0m\u001b[1;33m:\u001b[0m\u001b[1;33m\u001b[0m\u001b[1;33m\u001b[0m\u001b[0m\n\u001b[0;32m   1745\u001b[0m             \u001b[0mself\u001b[0m\u001b[1;33m.\u001b[0m\u001b[0madd_line\u001b[0m\u001b[1;33m(\u001b[0m\u001b[0mline\u001b[0m\u001b[1;33m)\u001b[0m\u001b[1;33m\u001b[0m\u001b[1;33m\u001b[0m\u001b[0m\n",
      "\u001b[1;32mc:\\program files\\python39\\lib\\site-packages\\matplotlib\\axes\\_base.py\u001b[0m in \u001b[0;36m__call__\u001b[1;34m(self, data, *args, **kwargs)\u001b[0m\n\u001b[0;32m    271\u001b[0m                 \u001b[0mthis\u001b[0m \u001b[1;33m+=\u001b[0m \u001b[0margs\u001b[0m\u001b[1;33m[\u001b[0m\u001b[1;36m0\u001b[0m\u001b[1;33m]\u001b[0m\u001b[1;33m,\u001b[0m\u001b[1;33m\u001b[0m\u001b[1;33m\u001b[0m\u001b[0m\n\u001b[0;32m    272\u001b[0m                 \u001b[0margs\u001b[0m \u001b[1;33m=\u001b[0m \u001b[0margs\u001b[0m\u001b[1;33m[\u001b[0m\u001b[1;36m1\u001b[0m\u001b[1;33m:\u001b[0m\u001b[1;33m]\u001b[0m\u001b[1;33m\u001b[0m\u001b[1;33m\u001b[0m\u001b[0m\n\u001b[1;32m--> 273\u001b[1;33m             \u001b[1;32myield\u001b[0m \u001b[1;32mfrom\u001b[0m \u001b[0mself\u001b[0m\u001b[1;33m.\u001b[0m\u001b[0m_plot_args\u001b[0m\u001b[1;33m(\u001b[0m\u001b[0mthis\u001b[0m\u001b[1;33m,\u001b[0m \u001b[0mkwargs\u001b[0m\u001b[1;33m)\u001b[0m\u001b[1;33m\u001b[0m\u001b[1;33m\u001b[0m\u001b[0m\n\u001b[0m\u001b[0;32m    274\u001b[0m \u001b[1;33m\u001b[0m\u001b[0m\n\u001b[0;32m    275\u001b[0m     \u001b[1;32mdef\u001b[0m \u001b[0mget_next_color\u001b[0m\u001b[1;33m(\u001b[0m\u001b[0mself\u001b[0m\u001b[1;33m)\u001b[0m\u001b[1;33m:\u001b[0m\u001b[1;33m\u001b[0m\u001b[1;33m\u001b[0m\u001b[0m\n",
      "\u001b[1;32mc:\\program files\\python39\\lib\\site-packages\\matplotlib\\axes\\_base.py\u001b[0m in \u001b[0;36m_plot_args\u001b[1;34m(self, tup, kwargs)\u001b[0m\n\u001b[0;32m    397\u001b[0m \u001b[1;33m\u001b[0m\u001b[0m\n\u001b[0;32m    398\u001b[0m         \u001b[1;32mif\u001b[0m \u001b[0mx\u001b[0m\u001b[1;33m.\u001b[0m\u001b[0mshape\u001b[0m\u001b[1;33m[\u001b[0m\u001b[1;36m0\u001b[0m\u001b[1;33m]\u001b[0m \u001b[1;33m!=\u001b[0m \u001b[0my\u001b[0m\u001b[1;33m.\u001b[0m\u001b[0mshape\u001b[0m\u001b[1;33m[\u001b[0m\u001b[1;36m0\u001b[0m\u001b[1;33m]\u001b[0m\u001b[1;33m:\u001b[0m\u001b[1;33m\u001b[0m\u001b[1;33m\u001b[0m\u001b[0m\n\u001b[1;32m--> 399\u001b[1;33m             raise ValueError(f\"x and y must have same first dimension, but \"\n\u001b[0m\u001b[0;32m    400\u001b[0m                              f\"have shapes {x.shape} and {y.shape}\")\n\u001b[0;32m    401\u001b[0m         \u001b[1;32mif\u001b[0m \u001b[0mx\u001b[0m\u001b[1;33m.\u001b[0m\u001b[0mndim\u001b[0m \u001b[1;33m>\u001b[0m \u001b[1;36m2\u001b[0m \u001b[1;32mor\u001b[0m \u001b[0my\u001b[0m\u001b[1;33m.\u001b[0m\u001b[0mndim\u001b[0m \u001b[1;33m>\u001b[0m \u001b[1;36m2\u001b[0m\u001b[1;33m:\u001b[0m\u001b[1;33m\u001b[0m\u001b[1;33m\u001b[0m\u001b[0m\n",
      "\u001b[1;31mValueError\u001b[0m: x and y must have same first dimension, but have shapes (4,) and (2,)"
     ]
    },
    {
     "data": {
      "image/png": "[encoded data removed]",
      "text/plain": [
       "<Figure size 432x288 with 6 Axes>"
      ]
     },
     "metadata": {
      "needs_background": "light"
     },
     "output_type": "display_data"
    }
   ],
   "source": [
    "plot_sensitivity_analysis(peak_experiments, speed_data, tt_data, delay_data)"
   ]
  },
  {
   "cell_type": "code",
   "execution_count": null,
   "metadata": {},
   "outputs": [],
   "source": [
    "plot_ax(x_values_batch, speed_data[4:], axes[0][0])\n",
    "    plot_ax(x_values_delay, speed_data[:4], axes[0][1])\n",
    "    plot_ax(x_values_batch, tt_data[4:], axes[1][0])\n",
    "    plot_ax(x_values_delay, tt_data[:4], axes[1][1])\n",
    "    plot_ax(, delay_data[4:], axes[2][0])\n",
    "    plot_ax(x_values_delay, delay_data[:4], axes[2][1])"
   ]
  },
  {
   "cell_type": "code",
   "execution_count": null,
   "metadata": {},
   "outputs": [],
   "source": [
    "    for exp_name in batch_experiments:\n",
    "        record = load_experiment_data(exp_name)\n",
    "        speed_data.append(record[0])\n",
    "        tt_data.append(record[1])\n",
    "        delay_data.append(record[2])"
   ]
  },
  {
   "cell_type": "code",
   "execution_count": 106,
   "metadata": {},
   "outputs": [
    {
     "data": {
      "text/plain": [
       "Text(0.5, 0, 'Max delay [min]')"
      ]
     },
     "execution_count": 106,
     "metadata": {},
     "output_type": "execute_result"
    },
    {
     "data": {
      "image/png": "[encoded data removed]",
      "text/plain": [
       "<Figure size 432x288 with 6 Axes>"
      ]
     },
     "metadata": {
      "needs_background": "light"
     },
     "output_type": "display_data"
    }
   ],
   "source": []
  },
  {
   "cell_type": "code",
   "execution_count": 107,
   "metadata": {},
   "outputs": [],
   "source": []
  },
  {
   "cell_type": "code",
   "execution_count": 108,
   "metadata": {},
   "outputs": [
    {
     "data": {
      "image/png": "[encoded data removed]",
      "text/plain": [
       "<Figure size 432x288 with 6 Axes>"
      ]
     },
     "execution_count": 108,
     "metadata": {},
     "output_type": "execute_result"
    }
   ],
   "source": [
    "fig"
   ]
  },
  {
   "cell_type": "code",
   "execution_count": 49,
   "metadata": {},
   "outputs": [],
   "source": [
    "plot_ax(batch_exp_data, 0, x_values_batch, axes[0][0])\n",
    "plot_ax(batch_exp_data, 1, x_values_batch, axes[1][0])\n",
    "plot_ax(batch_exp_data, 2, x_values_batch, axes[2][0])\n",
    "plot_ax(delay_exp_data, 0, x_values_delay, axes[0][1])\n",
    "plot_ax(delay_exp_data, 1, x_values_delay, axes[1][1])\n",
    "plot_ax(delay_exp_data, 2, x_values_delay, axes[2][1])"
   ]
  },
  {
   "cell_type": "code",
   "execution_count": null,
   "metadata": {},
   "outputs": [],
   "source": [
    "axes[0][0].plot(x_values_batch, speed_data[4:])\n",
    "axes[0][1].plot(x_values_delay, speed_data[:4])\n",
    "axes[1][0].plot(x_values_batch, tt_data[4:])\n",
    "axes[1][1].plot(x_values_delay, tt_data[:4])\n",
    "axes[2][0].plot(x_values_batch, delay_data[4:])\n",
    "axes[2][1].plot(x_values_delay, delay_data[:4])"
   ]
  }
 ],
 "metadata": {
  "kernelspec": {
   "display_name": "Python 3",
   "language": "python",
   "name": "python3"
  },
  "language_info": {
   "codemirror_mode": {
    "name": "ipython",
    "version": 3
   },
   "file_extension": ".py",
   "mimetype": "text/x-python",
   "name": "python",
   "nbconvert_exporter": "python",
   "pygments_lexer": "ipython3",
   "version": "3.9.0"
  }
 },
 "nbformat": 4,
 "nbformat_minor": 4
}
