{
 "cells": [
  {
   "cell_type": "code",
   "execution_count": 57,
   "metadata": {
    "scrolled": true
   },
   "outputs": [],
   "source": [
    "import csv\n",
    "import os\n",
    "import networkx as nx\n",
    "from tqdm import tqdm\n",
    "from operator import itemgetter\n",
    "\n",
    "import roadmaptools.inout"
   ]
  },
  {
   "cell_type": "code",
   "execution_count": 3,
   "metadata": {},
   "outputs": [
    {
     "name": "stdout",
     "output_type": "stream",
     "text": [
      "[20:47:58]: Loading geojson file from: C:\\AIC Experiment Data\\VGA Manhattan\\maps\\edges.geojson\n"
     ]
    }
   ],
   "source": [
    "# edges\n",
    "edata = roadmaptools.inout.load_geojson(r\"C:\\AIC Experiment Data\\VGA Manhattan\\maps/edges.geojson\")\n",
    "edges = edata[\"features\"]"
   ]
  },
  {
   "cell_type": "code",
   "execution_count": 4,
   "metadata": {},
   "outputs": [
    {
     "name": "stderr",
     "output_type": "stream",
     "text": [
      "112429it [00:00, 176776.51it/s]\n"
     ]
    }
   ],
   "source": [
    "# real speeds\n",
    "real_speed_dict = {}\n",
    "with open(r\"O:\\AIC data\\data\\speeds/new_york-2018-Q2-19h.csv\", 'r') as infile:\n",
    "    reader = csv.reader(infile)\n",
    "    \n",
    "    # skip header\n",
    "    header = next(reader)\n",
    "    \n",
    "    for row in tqdm(reader):\n",
    "        real_speed_dict[(int(row[7]), int(row[8]))] = float(row[11])"
   ]
  },
  {
   "cell_type": "code",
   "execution_count": 19,
   "metadata": {},
   "outputs": [
    {
     "data": {
      "text/plain": [
       "2612"
      ]
     },
     "execution_count": 19,
     "metadata": {},
     "output_type": "execute_result"
    }
   ],
   "source": [
    "# count missing values\n",
    "missing = []\n",
    "for edge in edges:\n",
    "    properties = edge['properties']\n",
    "    key = (int(properties['from_osm_id']), int(properties['to_osm_id']))\n",
    "    if key not in real_speed_dict:\n",
    "        missing.append(edge)\n",
    "    else:\n",
    "        properties['measured_speed'] = real_speed_dict[key]\n",
    "        \n",
    "len(missing)"
   ]
  },
  {
   "cell_type": "code",
   "execution_count": 16,
   "metadata": {},
   "outputs": [],
   "source": [
    "# create networkx graph\n",
    "graph = nx.DiGraph()\n",
    "for edge in edges:\n",
    "    graph.add_edge(edge['properties'][\"from_osm_id\"], edge['properties'][\"to_osm_id\"], data=edge)"
   ]
  },
  {
   "cell_type": "code",
   "execution_count": 52,
   "metadata": {},
   "outputs": [],
   "source": [
    "# count edges with speed records in neighborhood of each edge\n",
    "missing_with_neighbor_speed_count = []\n",
    "for edge in missing:\n",
    "    neighbor_speed_count = 0\n",
    "    for node in (edge['properties']['from_osm_id'], edge['properties']['to_osm_id']):\n",
    "        for neighbor_edge in graph.edges(node, data=True):\n",
    "            if 'measured_speed' in neighbor_edge[2]['data']['properties']:\n",
    "                neighbor_speed_count +=1\n",
    "    missing_with_neighbor_speed_count.append((edge, neighbor_speed_count))"
   ]
  },
  {
   "cell_type": "code",
   "execution_count": 60,
   "metadata": {},
   "outputs": [],
   "source": [
    "# sort by neighborhood speed records\n",
    "missing_with_neighbor_speed_count.sort(key=itemgetter(1), reverse=True)"
   ]
  },
  {
   "cell_type": "code",
   "execution_count": 66,
   "metadata": {},
   "outputs": [],
   "source": [
    "# estimate speeds\n",
    "for record in missing_with_neighbor_speed_count:\n",
    "    neighbor_speed_count = 0\n",
    "    neighbor_speed_sum = 0\n",
    "    for node in (edge['properties']['from_osm_id'], edge['properties']['to_osm_id']):\n",
    "        for neighbor_edge in graph.edges(node, data=True):\n",
    "            if 'measured_speed' in neighbor_edge[2]['data']['properties']:\n",
    "                neighbor_speed_count +=1\n",
    "                neighbor_speed_sum += neighbor_edge[2]['data']['properties']['measured_speed']\n",
    "    record[0]['properties']['measured_speed'] = neighbor_speed_sum / neighbor_speed_count"
   ]
  },
  {
   "cell_type": "code",
   "execution_count": 67,
   "metadata": {},
   "outputs": [],
   "source": [
    "#check\n",
    "for edge in edges:\n",
    "    if 'measured_speed' not in edge['properties']:\n",
    "        raise Exception"
   ]
  },
  {
   "cell_type": "code",
   "execution_count": 69,
   "metadata": {},
   "outputs": [
    {
     "name": "stdout",
     "output_type": "stream",
     "text": [
      "[22:31:16]: Saving geojson file to: C:\\AIC Experiment Data\\VGA Manhattan\\maps/edges_with_measured_speed.geojson\n"
     ]
    }
   ],
   "source": [
    "roadmaptools.inout.save_geojson(edata, r\"C:\\AIC Experiment Data\\VGA Manhattan\\maps/edges_with_measured_speed.geojson\")"
   ]
  },
  {
   "cell_type": "code",
   "execution_count": 65,
   "metadata": {},
   "outputs": [
    {
     "data": {
      "text/plain": [
       "0"
      ]
     },
     "execution_count": 65,
     "metadata": {},
     "output_type": "execute_result"
    }
   ],
   "source": [
    "missing_with_neighbor_speed_count[2250][1]"
   ]
  },
  {
   "cell_type": "markdown",
   "metadata": {},
   "source": [
    "# Pseudo real speeds assignment"
   ]
  },
  {
   "cell_type": "code",
   "execution_count": 11,
   "metadata": {},
   "outputs": [
    {
     "name": "stderr",
     "output_type": "stream",
     "text": [
      "112429it [00:00, 240226.21it/s]\n"
     ]
    }
   ],
   "source": [
    "real_speed_sum = 0\n",
    "count = 0\n",
    "with open(r\"O:\\AIC data\\data\\speeds/new_york-2018-Q2-19h.csv\", 'r') as infile:\n",
    "    reader = csv.reader(infile)\n",
    "    \n",
    "    header = next(reader)\n",
    "    \n",
    "    for row in tqdm(reader):\n",
    "        real_speed_sum += float(row[11])\n",
    "        count += 1\n",
    "        \n",
    "avg_real_speed = real_speed_sum / count"
   ]
  },
  {
   "cell_type": "code",
   "execution_count": 5,
   "metadata": {},
   "outputs": [],
   "source": [
    "posted_speed_sum = 0\n",
    "for edge in edges:\n",
    "    posted_speed_sum += int(edge[\"properties\"][\"maxspeed\"])\n",
    "avg_posted_speed = posted_speed_sum / len(edges)"
   ]
  },
  {
   "cell_type": "code",
   "execution_count": 12,
   "metadata": {},
   "outputs": [
    {
     "data": {
      "text/plain": [
       "18.66147654075017"
      ]
     },
     "execution_count": 12,
     "metadata": {},
     "output_type": "execute_result"
    }
   ],
   "source": [
    "avg_real_speed"
   ]
  },
  {
   "cell_type": "code",
   "execution_count": 13,
   "metadata": {},
   "outputs": [
    {
     "data": {
      "text/plain": [
       "18.66147654075017"
      ]
     },
     "execution_count": 13,
     "metadata": {},
     "output_type": "execute_result"
    }
   ],
   "source": [
    "avg_real_speed"
   ]
  },
  {
   "cell_type": "code",
   "execution_count": 14,
   "metadata": {},
   "outputs": [
    {
     "data": {
      "text/plain": [
       "34.68234323432343"
      ]
     },
     "execution_count": 14,
     "metadata": {},
     "output_type": "execute_result"
    }
   ],
   "source": [
    "avg_posted_speed"
   ]
  },
  {
   "cell_type": "code",
   "execution_count": 17,
   "metadata": {},
   "outputs": [],
   "source": [
    "ratio = avg_posted_speed / avg_real_speed"
   ]
  },
  {
   "cell_type": "code",
   "execution_count": 18,
   "metadata": {},
   "outputs": [
    {
     "data": {
      "text/plain": [
       "1.8584994150162377"
      ]
     },
     "execution_count": 18,
     "metadata": {},
     "output_type": "execute_result"
    }
   ],
   "source": [
    "ratio"
   ]
  },
  {
   "cell_type": "code",
   "execution_count": 20,
   "metadata": {},
   "outputs": [],
   "source": [
    "for edge in edges:\n",
    "    edge[\"properties\"][\"maxspeed\"] = int(round(int(edge[\"properties\"][\"maxspeed\"]) / ratio))"
   ]
  },
  {
   "cell_type": "code",
   "execution_count": 21,
   "metadata": {},
   "outputs": [
    {
     "name": "stdout",
     "output_type": "stream",
     "text": [
      "[16:39:59]: Saving geojson file to: C:\\AIC Experiment Data\\VGA Manhattan\\maps/edges.geojson\n"
     ]
    }
   ],
   "source": [
    "roadmaptools.inout.save_geojson(edata, r\"C:\\AIC Experiment Data\\VGA Manhattan\\maps/edges.geojson\")"
   ]
  },
  {
   "cell_type": "code",
   "execution_count": null,
   "metadata": {},
   "outputs": [],
   "source": []
  }
 ],
 "metadata": {
  "kernelspec": {
   "display_name": "Python 3",
   "language": "python",
   "name": "python3"
  },
  "language_info": {
   "codemirror_mode": {
    "name": "ipython",
    "version": 3
   },
   "file_extension": ".py",
   "mimetype": "text/x-python",
   "name": "python",
   "nbconvert_exporter": "python",
   "pygments_lexer": "ipython3",
   "version": "3.9.0"
  }
 },
 "nbformat": 4,
 "nbformat_minor": 4
}
