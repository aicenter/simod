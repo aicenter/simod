{
 "cells": [
  {
   "cell_type": "code",
   "execution_count": 1,
   "metadata": {},
   "outputs": [
    {
     "name": "stderr",
     "output_type": "stream",
     "text": [
      "INFO:root:Loading config for project RoadmaptoolsConfig (can be overwritten later)\n",
      "INFO:root:map_dir: FILL YOUR MAP DIR HERE\n",
      "osm_source_url: https://s3.amazonaws.com/metro-extracts.mapzen.com/valencia_spain.osm.bz2\n",
      "osm_map_filename: FILL YOUR MAP DIR HEREmap.osm\n",
      "filtered_osm_filename: FILL YOUR MAP DIR HEREmap-filtered.osm\n",
      "geojson_file: FILL YOUR MAP DIR HEREmap.geojson\n",
      "cleaned_geojson_file: FILL YOUR MAP DIR HEREmap-cleaned.geojson\n",
      "sanitized_geojson_file: FILL YOUR MAP DIR HEREmap-sanitized.geojson\n",
      "simplified_file: FILL YOUR MAP DIR HEREmap-simplified.geojson\n",
      "simplified_file_with_speed: FILL YOUR MAP DIR HEREmap-simplified-speed.geojson\n",
      "simplified_file_with_speed_and_curvature: FILL YOUR MAP DIR HEREmap-simplified-speed-curvature.geojson\n",
      "ap_nodes_file: FILL YOUR MAP DIR HEREnodes.geojson\n",
      "ap_edges_file: FILL YOUR MAP DIR HEREedges.geojson\n",
      "utm_center_lon: 50.0877506\n",
      "utm_center_lat: 14.4209293\n",
      "shift_utm_coordinate_origin_to_utm_center: False\n",
      "shapely_error_tolerance: 0.005\n",
      "osm_filter_params: --keep=\"highway=motorway =motorway_link =trunk =trunk_link =primary =primary_link =secondary =secondary_link =tertiary =tertiary_link =unclassified =unclassified_link =residential =residential_link =living_street\" --drop=\"access=no\"\n",
      "south: 49.94\n",
      "east: 14.22\n",
      "north: 50.17\n",
      "west: 14.71\n",
      "amodsim_data_dir: C:/AIC Experiment Data/VGA Manhattan/\n",
      "experiments_dir: C:/AIC Experiment Data/VGA Manhattan/experiments/\n",
      "experiment_name: vga-start_1830-real_speeds\n",
      "data_dir: C:/AIC Experiment Data/VGA Manhattan/\n",
      "start_time: 66600000\n",
      "ridesharing.method: vga\n",
      "ridesharing.max_prolongation_in_seconds: 240\n",
      "ridesharing.vga.group_generation_time_limit: 0\n",
      "ridesharing.vga.solver_time_limit: 0\n",
      "ridesharing.vga.solver_min_gap: 0.0002\n",
      "agentpolis.srid: 32618\n",
      "agentpolis.visio.show_visio: False\n",
      "agentpolis.map_edges_filepath: FILL YOUR MAP DIR HEREedges_with_measured_speed.geojson\n",
      "map_envelope[0]: 40.7\n",
      "map_envelope[1]: -74.06\n",
      "map_envelope[2]: 40.82\n",
      "map_envelope[3]: -73.87\n",
      "area_name: New York County\n",
      "\n",
      "INFO:root:Loading config for project SimodConfig (can be overwritten later)\n",
      "INFO:root:roadmaptools.map_dir: FILL YOUR MAP DIR HERE\n",
      "roadmaptools.osm_source_url: https://s3.amazonaws.com/metro-extracts.mapzen.com/valencia_spain.osm.bz2\n",
      "roadmaptools.osm_map_filename: FILL YOUR MAP DIR HEREmap.osm\n",
      "roadmaptools.filtered_osm_filename: FILL YOUR MAP DIR HEREmap-filtered.osm\n",
      "roadmaptools.geojson_file: FILL YOUR MAP DIR HEREmap.geojson\n",
      "roadmaptools.cleaned_geojson_file: FILL YOUR MAP DIR HEREmap-cleaned.geojson\n",
      "roadmaptools.sanitized_geojson_file: FILL YOUR MAP DIR HEREmap-sanitized.geojson\n",
      "roadmaptools.simplified_file: FILL YOUR MAP DIR HEREmap-simplified.geojson\n",
      "roadmaptools.simplified_file_with_speed: FILL YOUR MAP DIR HEREmap-simplified-speed.geojson\n",
      "roadmaptools.simplified_file_with_speed_and_curvature: FILL YOUR MAP DIR HEREmap-simplified-speed-curvature.geojson\n",
      "roadmaptools.ap_nodes_file: FILL YOUR MAP DIR HEREnodes.geojson\n",
      "roadmaptools.ap_edges_file: FILL YOUR MAP DIR HEREedges.geojson\n",
      "roadmaptools.utm_center_lon: 50.0877506\n",
      "roadmaptools.utm_center_lat: 14.4209293\n",
      "roadmaptools.shift_utm_coordinate_origin_to_utm_center: False\n",
      "roadmaptools.shapely_error_tolerance: 0.005\n",
      "roadmaptools.osm_filter_params: --keep=\"highway=motorway =motorway_link =trunk =trunk_link =primary =primary_link =secondary =secondary_link =tertiary =tertiary_link =unclassified =unclassified_link =residential =residential_link =living_street\" --drop=\"access=no\"\n",
      "south: 49.94\n",
      "east: 14.22\n",
      "north: 50.17\n",
      "west: 14.71\n",
      "data_dir: C:/AIC Experiment Data/VGA Manhattan/\n",
      "map_dir: C:/AIC Experiment Data/VGA Manhattan/maps/\n",
      "experiments_dir: C:/AIC Experiment Data/VGA Manhattan/experiments/\n",
      "rci_experiments_dir: HERE FILL THE PROJECT RCI EXPERIMENT DIR PATH/\n",
      "experiment_name: vga-start_1830-real_speeds\n",
      "experiment_dir: C:/AIC Experiment Data/VGA Manhattan/experiments/vga-start_1830-real_speeds/\n",
      "critical_density: 0.08\n",
      "simplify_graph: True\n",
      "edges_file_path: C:/AIC Experiment Data/VGA Manhattan/edges\n",
      "edge_pairs_file_path: C:/AIC Experiment Data/VGA Manhattan/edge_pairs\n",
      "trips_filename: trips\n",
      "trips_path: C:/AIC Experiment Data/VGA Manhattan/trips.txt\n",
      "distance_matrix_filepath: C:/AIC Experiment Data/VGA Manhattan/dm.csv\n",
      "station_position_filepath: C:/AIC Experiment Data/VGA Manhattan/station_positions.csv\n",
      "vehicle_speed_in_meters_per_second: 40.0\n",
      "main_roads_graph_filepath: C:/AIC Experiment Data/VGA Manhattan/maps/main_roads_map.geojson\n",
      "trips_multiplier: 3.433\n",
      "uber_speeds_file_path: \n",
      "statistics.result_file_name: result.json\n",
      "statistics.result_file_path: C:/AIC Experiment Data/VGA Manhattan/experiments/vga-start_1830-real_speeds/result.json\n",
      "statistics.all_edges_load_history_file_name: allEdgesLoadHistory.json\n",
      "statistics.all_edges_load_history_file_path: C:/AIC Experiment Data/VGA Manhattan/experiments/vga-start_1830-real_speeds/allEdgesLoadHistory.json\n",
      "statistics.occupancies_file_name: vehicle_occupancy.csv\n",
      "statistics.occupancies_file_path: C:/AIC Experiment Data/VGA Manhattan/experiments/vga-start_1830-real_speeds/vehicle_occupancy.csv\n",
      "statistics.service_file_name: service.csv\n",
      "statistics.transit_file_name: transit.csv\n",
      "statistics.ridesharing_stats_file_name: ridesharing.csv\n",
      "statistics.trip_distances_file_path: C:/AIC Experiment Data/VGA Manhattan/experiments/vga-start_1830-real_speeds/demand_trip_lengths.csv\n",
      "analysis.chosen_window_start: 3\n",
      "analysis.chosen_window_end: 8\n",
      "analysis.trips_multiplier: 1.0\n",
      "images.images_dir: C:/AIC Experiment Data/VGA Manhattan//img/\n",
      "images.occupancy_histogram: C:/AIC Experiment Data/VGA Manhattan//img/occupancy.pdf\n",
      "images.occupancy_histogram_window: C:/AIC Experiment Data/VGA Manhattan//img/occupancy-window.pdf\n",
      "images.occupancy_histogram_comparison: C:/AIC Experiment Data/VGA Manhattan//img/occupancy-comparison-gglimit.pdf\n",
      "images.occupancy_histogram_comparison_combined: C:/AIC Experiment Data/VGA Manhattan//img/occupancy-comparison-gglimit-combined.pdf\n",
      "images.delay_histogram_comparison: C:/AIC Experiment Data/VGA Manhattan//img/delay-comparison-gglimit.pdf\n",
      "images.delay_histogram_comparison_combined: C:/AIC Experiment Data/VGA Manhattan//img/delay-comparison-gglimit-combined.pdf\n",
      "images.traffic_density_map_comparison: C:/AIC Experiment Data/VGA Manhattan//img/traffic_density_map_comparison.png\n",
      "images.ridesharing_performance_comparison: C:/AIC Experiment Data/VGA Manhattan//img/ridesharing_performance_comparison.pdf\n",
      "images.stations: C:/AIC Experiment Data/VGA Manhattan//img/stations.png\n",
      "images.demand_heatmap: C:/AIC Experiment Data/VGA Manhattan//img/demand.png\n",
      "images.distance_delay_tradeoff: C:/AIC Experiment Data/VGA Manhattan//img/distance_delay_tradeoff.pdf\n",
      "images.vga_times: C:/AIC Experiment Data/VGA Manhattan//img/vga_simulation_time.pdf\n",
      "images.vga_group_size: C:/AIC Experiment Data/VGA Manhattan//img/vga_group_size.pdf\n",
      "images.demand_trip_duration_histogram: C:/AIC Experiment Data/VGA Manhattan//img/demand_trip_duration_histogram.pdf\n",
      "images.demand_example: C:/AIC Experiment Data/VGA Manhattan//img/demand_example.png\n",
      "images.sensitivity_analysis: C:/AIC Experiment Data/VGA Manhattan//img/sensitivity_analysis.pdf\n",
      "comparison.experiment_1_name: ih-nr\n",
      "comparison.experiment_1_dir: C:/AIC Experiment Data/VGA Manhattan/experiments/ih-nr/\n",
      "comparison.experiment_2_name: ih\n",
      "comparison.experiment_2_dir: C:/AIC Experiment Data/VGA Manhattan/experiments/ih/\n",
      "comparison.experiment_3_name: vga_gap_0002\n",
      "comparison.experiment_3_dir: C:/AIC Experiment Data/VGA Manhattan/experiments/vga_gap_0002/\n",
      "comparison.experiment_4_name: vga-lim_gap_005_gg_60ms\n",
      "comparison.experiment_4_dir: C:/AIC Experiment Data/VGA Manhattan/experiments/vga-lim_gap_005_gg_60ms/\n",
      "comparison.experiment_5_name: sw-ih-nr\n",
      "comparison.experiment_5_dir: C:/AIC Experiment Data/VGA Manhattan/experiments/sw-ih-nr/\n",
      "comparison.experiment_6_name: sw-ih\n",
      "comparison.experiment_6_dir: C:/AIC Experiment Data/VGA Manhattan/experiments/sw-ih/\n",
      "comparison.experiment_7_name: sw-vga-gap_0002\n",
      "comparison.experiment_7_dir: C:/AIC Experiment Data/VGA Manhattan/experiments/sw-vga-gap_0002/\n",
      "comparison.experiment_8_name: sw-vga-lim_gap_005_gg_60ms\n",
      "comparison.experiment_8_dir: C:/AIC Experiment Data/VGA Manhattan/experiments/sw-vga-lim_gap_005_gg_60ms/\n",
      "comparison.experiment_9_name: vga-pnas\n",
      "comparison.experiment_9_dir: C:/AIC Experiment Data/VGA Manhattan/experiments/vga-pnas/\n",
      "comparison.experiment_10_name: sw-vga-pnas\n",
      "comparison.experiment_10_dir: C:/AIC Experiment Data/VGA Manhattan/experiments/sw-vga-pnas/\n",
      "ridesharing.max_prolongation_in_seconds: 240\n",
      "ridesharing.method: vga\n",
      "ridesharing.vga.group_generation_time_limit: 0\n",
      "ridesharing.vga.solver_time_limit: 0\n",
      "ridesharing.vga.solver_min_gap: 0.0002\n",
      "agentpolis.map_nodes_filepath: C:/AIC Experiment Data/VGA Manhattan/maps/nodes.geojson\n",
      "agentpolis.map_edges_filepath: C:/AIC Experiment Data/VGA Manhattan/maps/edges_with_measured_speed.geojson\n",
      "agentpolis.srid: 32618\n",
      "agentpolis.visio.show_visio: False\n",
      "amodsim_data_dir: C:/AIC Experiment Data/VGA Manhattan/\n",
      "start_time: 66600000\n",
      "map_envelope[0]: 40.7\n",
      "map_envelope[1]: -74.06\n",
      "map_envelope[2]: 40.82\n",
      "map_envelope[3]: -73.87\n",
      "area_name: New York County\n",
      "\n"
     ]
    }
   ],
   "source": [
    "import sys\n",
    "# sys.argv.append(\"-lc=C:/Workspaces/AIC/simod/local_config_files/AIC/Manhattan/vga-manhattan-start_1830-real_speeds.cfg\")\n",
    "sys.argv.append(\"-lc=C:/Workspaces/AIC/simod-master/local_config_files/AIC/Manhattan/vga-manhattan-start_1830-real_speeds.cfg\")\n",
    "from simod.init import config"
   ]
  },
  {
   "cell_type": "code",
   "execution_count": 5,
   "metadata": {},
   "outputs": [],
   "source": [
    "from typing import List, Dict\n",
    "from pandas import DataFrame\n",
    "import pandas.errors\n",
    "import numpy as np\n",
    "import matplotlib.pyplot as plt\n",
    "from matplotlib.ticker import FuncFormatter\n",
    "\n",
    "\n",
    "import roadmaptools.inout\n",
    "from roadmaptools.printer import print_table, print_info\n",
    "from simod.statistics.traffic_density_histogram import TrafficDensityHistogram\n",
    "import simod.statistics.model.transit as transit\n",
    "import simod.statistics.model.traffic_load as traffic_load\n",
    "import simod.statistics.model.occupancy as occupancy\n",
    "import simod.statistics.model.ridesharing as ridesharing\n",
    "import simod.statistics.model.service as service\n",
    "import simod.statistics.model.edges as edges\n",
    "import simod.statistics.comparisons.common as common"
   ]
  },
  {
   "cell_type": "code",
   "execution_count": 6,
   "metadata": {},
   "outputs": [],
   "source": [
    "def compute_stats(experiment_dir: str, histogram: TrafficDensityHistogram, edge_data: DataFrame) -> List:\n",
    "    result: Dict = roadmaptools.inout.load_json(experiment_dir + config.statistics.result_file_name)\n",
    "\n",
    "    # km total\n",
    "    transit_data = transit.load(experiment_dir)\n",
    "\n",
    "    # km_total = int(round(avg_km_total * result[\"numberOfVehicles\"]))\n",
    "    km_total = transit.get_total_distance(transit_data, edge_data) / 1000 / 100\n",
    "    km_total_window = int(round(transit.get_total_distance(transit_data, edge_data, True) / 1000 / 100))\n",
    "\n",
    "    # average density\n",
    "    load = traffic_load.load_all_edges_load_history(experiment_dir + config.statistics.all_edges_load_history_file_name)[\"ALL\"]\n",
    "    average_density_list_total_future = histogram.get_average_density_list(load)\n",
    "    average_density_in_time_window_non_empty_edges = np.average(average_density_list_total_future)\n",
    "\n",
    "    # congested count\n",
    "    congested_count_in_time_window = np.where(average_density_list_total_future > config.critical_density)[0].size\n",
    "\n",
    "    dropped_demand_count = result[\"numberOfDemandsDropped\"]\n",
    "\n",
    "    # half congested edges\n",
    "    half_congested_count_in_time_window \\\n",
    "        = np.where(average_density_list_total_future > (config.critical_density / 2))[0].size\n",
    "\n",
    "    occuopancies = occupancy.load(experiment_dir)\n",
    "    occupancies_in_window = occupancy.filter_window(occuopancies)\n",
    "    used_cars_count = len(occupancies_in_window.vehicle_id.unique())\n",
    "\n",
    "    # performance\n",
    "    try:\n",
    "        performance_data = ridesharing.load(experiment_dir)\n",
    "        if 'Insertion Heuristic Time' in performance_data:\n",
    "            avg_time = performance_data['Insertion Heuristic Time'].mean()\n",
    "        else:\n",
    "            avg_time = performance_data['Group Generation Time'].mean() + performance_data['Solver Time'].mean()\n",
    "        avg_time = int(round(avg_time))\n",
    "    except pandas.errors.EmptyDataError:\n",
    "        print_info(\"Empty ridesharing statistic\")\n",
    "        avg_time = \"-1\"\n",
    "\n",
    "    # delay\n",
    "    service_stat = service.load_dataframe(experiment_dir)\n",
    "    delays_window = service.get_delays(service_stat, True, False)\n",
    "    mean_delay = int(round(delays_window.mean() / 1000))\n",
    "\n",
    "    return [\n",
    "        km_total_window, \n",
    "        average_density_in_time_window_non_empty_edges, \n",
    "        congested_count_in_time_window,\n",
    "        dropped_demand_count, \n",
    "        half_congested_count_in_time_window, \n",
    "        used_cars_count, \n",
    "        avg_time, \n",
    "        mean_delay,\n",
    "        occupancies_in_window\n",
    "    ]"
   ]
  },
  {
   "cell_type": "code",
   "execution_count": 7,
   "metadata": {},
   "outputs": [
    {
     "name": "stdout",
     "output_type": "stream",
     "text": [
      "[22:37:45]: Loading geojson file from: C:\\AIC Experiment Data\\VGA Manhattan\\maps\\edges_with_measured_speed.geojson\n"
     ]
    }
   ],
   "source": [
    "# edges\n",
    "loaded_edges = roadmaptools.inout.load_geojson(config.agentpolis.map_edges_filepath)\n",
    "edge_data = edges.make_data_frame(loaded_edges)\n",
    "edge_object_data = edges.load_edges_mapped_by_id(loaded_edges)"
   ]
  },
  {
   "cell_type": "code",
   "execution_count": 9,
   "metadata": {},
   "outputs": [],
   "source": [
    "experiment_dirs = [\n",
    "    config.comparison.experiment_1_dir,\n",
    "    config.comparison.experiment_2_dir,\n",
    "    config.comparison.experiment_3_dir,\n",
    "    config.comparison.experiment_4_dir,\n",
    "    config.comparison.experiment_9_dir\n",
    "]"
   ]
  },
  {
   "cell_type": "code",
   "execution_count": 10,
   "metadata": {},
   "outputs": [],
   "source": [
    "# Manhattan temp fix\n",
    "experiment_dirs = [exd[:-1] + \"-start_1830-real_speeds/\" for exd in experiment_dirs]"
   ]
  },
  {
   "cell_type": "code",
   "execution_count": 11,
   "metadata": {},
   "outputs": [
    {
     "data": {
      "text/plain": [
       "['C:/AIC Experiment Data/VGA Manhattan/experiments/ih-nr-start_1830-real_speeds/',\n",
       " 'C:/AIC Experiment Data/VGA Manhattan/experiments/ih-start_1830-real_speeds/',\n",
       " 'C:/AIC Experiment Data/VGA Manhattan/experiments/vga_gap_0002-start_1830-real_speeds/',\n",
       " 'C:/AIC Experiment Data/VGA Manhattan/experiments/vga-lim_gap_005_gg_60ms-start_1830-real_speeds/',\n",
       " 'C:/AIC Experiment Data/VGA Manhattan/experiments/vga-pnas-start_1830-real_speeds/']"
      ]
     },
     "execution_count": 11,
     "metadata": {},
     "output_type": "execute_result"
    }
   ],
   "source": [
    "experiment_dirs"
   ]
  },
  {
   "cell_type": "code",
   "execution_count": 10,
   "metadata": {},
   "outputs": [],
   "source": [
    "histogram = TrafficDensityHistogram(edge_object_data)"
   ]
  },
  {
   "cell_type": "code",
   "execution_count": 14,
   "metadata": {},
   "outputs": [
    {
     "name": "stdout",
     "output_type": "stream",
     "text": [
      "[10:10:38]: Loading json file from: C:\\AIC Experiment Data\\VGA Manhattan\\experiments\\ih-nr-start_1830-real_speeds\\result.json\n",
      "[10:10:45]: Loading edge load history from: C:/AIC Experiment Data/VGA Manhattan/experiments/ih-nr-start_1830-real_speeds/allEdgesLoadHistory.json\n",
      "[10:10:45]: counting average load\n",
      "[10:10:46]: Loading csv file from: C:\\AIC Experiment Data\\VGA Manhattan\\experiments\\ih-nr-start_1830-real_speeds\\ridesharing.csv to dataframe\n",
      "[10:10:46]: Loading json file from: C:\\AIC Experiment Data\\VGA Manhattan\\experiments\\ih-start_1830-real_speeds\\result.json\n",
      "[10:10:48]: Loading edge load history from: C:/AIC Experiment Data/VGA Manhattan/experiments/ih-start_1830-real_speeds/allEdgesLoadHistory.json\n",
      "[10:10:48]: counting average load\n",
      "[10:10:49]: Loading csv file from: C:\\AIC Experiment Data\\VGA Manhattan\\experiments\\ih-start_1830-real_speeds\\ridesharing.csv to dataframe\n",
      "[10:10:49]: Loading json file from: C:\\AIC Experiment Data\\VGA Manhattan\\experiments\\vga_gap_0002-start_1830-real_speeds\\result.json\n",
      "[10:10:51]: Loading edge load history from: C:/AIC Experiment Data/VGA Manhattan/experiments/vga_gap_0002-start_1830-real_speeds/allEdgesLoadHistory.json\n",
      "[10:10:51]: counting average load\n",
      "[10:10:52]: Loading csv file from: C:\\AIC Experiment Data\\VGA Manhattan\\experiments\\vga_gap_0002-start_1830-real_speeds\\ridesharing.csv to dataframe\n",
      "[10:10:52]: Loading json file from: C:\\AIC Experiment Data\\VGA Manhattan\\experiments\\vga-lim_gap_005_gg_60ms-start_1830-real_speeds\\result.json\n",
      "[10:10:55]: Loading edge load history from: C:/AIC Experiment Data/VGA Manhattan/experiments/vga-lim_gap_005_gg_60ms-start_1830-real_speeds/allEdgesLoadHistory.json\n",
      "[10:10:55]: counting average load\n",
      "[10:10:55]: Loading csv file from: C:\\AIC Experiment Data\\VGA Manhattan\\experiments\\vga-lim_gap_005_gg_60ms-start_1830-real_speeds\\ridesharing.csv to dataframe\n",
      "[10:10:55]: Loading json file from: C:\\AIC Experiment Data\\VGA Manhattan\\experiments\\vga-pnas-start_1830-real_speeds\\result.json\n",
      "[10:10:58]: Loading edge load history from: C:/AIC Experiment Data/VGA Manhattan/experiments/vga-pnas-start_1830-real_speeds/allEdgesLoadHistory.json\n",
      "[10:10:58]: counting average load\n",
      "[10:10:58]: Loading csv file from: C:\\AIC Experiment Data\\VGA Manhattan\\experiments\\vga-pnas-start_1830-real_speeds\\ridesharing.csv to dataframe\n"
     ]
    }
   ],
   "source": [
    "no_ridesharing_data = compute_stats(experiment_dirs[0], histogram, edge_data)\n",
    "insertion_heuristic_data = compute_stats(experiment_dirs[1], histogram, edge_data)\n",
    "vga_data = compute_stats(experiment_dirs[2], histogram, edge_data)\n",
    "vga_limited_data = compute_stats(experiment_dirs[3], histogram, edge_data)\n",
    "vga_pnas_data = compute_stats(experiment_dirs[4], histogram, edge_data)"
   ]
  },
  {
   "cell_type": "code",
   "execution_count": 15,
   "metadata": {},
   "outputs": [
    {
     "name": "stdout",
     "output_type": "stream",
     "text": [
      "[10:11:37]: Loading json file from: C:\\AIC Experiment Data\\VGA Manhattan\\experiments\\vga-pnas_unlimeted_vehicles-start_1830-real_speeds\\result.json\n",
      "[10:11:40]: Loading edge load history from: C:\\AIC Experiment Data\\VGA Manhattan\\experiments/vga-pnas_unlimeted_vehicles-start_1830-real_speeds/allEdgesLoadHistory.json\n",
      "[10:11:40]: counting average load\n",
      "[10:11:40]: Loading csv file from: C:\\AIC Experiment Data\\VGA Manhattan\\experiments\\vga-pnas_unlimeted_vehicles-start_1830-real_speeds\\ridesharing.csv to dataframe\n"
     ]
    }
   ],
   "source": [
    "# vga_pnas_data = compute_stats(experiment_dirs[4], histogram, edge_data)\n",
    "vga_pnas_unlimited_vehicles_data = compute_stats(r\"C:\\AIC Experiment Data\\VGA Manhattan\\experiments/vga-pnas_unlimeted_vehicles-start_1830-real_speeds/\", histogram, edge_data)"
   ]
  },
  {
   "cell_type": "code",
   "execution_count": 16,
   "metadata": {},
   "outputs": [],
   "source": [
    "output_table = np.array([[\"X\", \"NO RIDESHARING\", \"INSERTION HEURISTIC\", \"VGA\", \"VGA limited\", \"VGA PNAS\", \"VGA PNAS (unlimited vehicles)\"],\n",
    "\t\t\t\t\t\t [\"Total veh. dist. traveled (km)\", no_ridesharing_data[0], insertion_heuristic_data[0], vga_data[0], vga_limited_data[0], vga_pnas_data[0], vga_pnas_unlimited_vehicles_data[0]],\n",
    "\t\t\t\t\t\t [\"avg. density\", no_ridesharing_data[1], insertion_heuristic_data[1], vga_data[1], vga_limited_data[1], vga_pnas_data[1], vga_pnas_unlimited_vehicles_data[1]],\n",
    "\t\t\t\t\t\t [\"cong. segments count\", no_ridesharing_data[2], insertion_heuristic_data[2], vga_data[2], vga_limited_data[2], vga_pnas_data[2], vga_pnas_unlimited_vehicles_data[2]],\n",
    "\t\t\t\t\t\t [\"dropped demand count\", no_ridesharing_data[3], insertion_heuristic_data[3], vga_data[3], vga_limited_data[3], vga_pnas_data[3], vga_pnas_unlimited_vehicles_data[3]],\n",
    "\t\t\t\t\t\t [\"half congested edges\", no_ridesharing_data[4], insertion_heuristic_data[4], vga_data[4], vga_limited_data[4], vga_pnas_data[4], vga_pnas_unlimited_vehicles_data[4]],\n",
    "\t\t\t\t\t\t [\"used car count\", no_ridesharing_data[5], insertion_heuristic_data[5], vga_data[5], vga_limited_data[5], vga_pnas_data[5], vga_pnas_unlimited_vehicles_data[5]],\n",
    "\t\t\t\t\t\t [\"avg. delay\", no_ridesharing_data[7], insertion_heuristic_data[7], vga_data[7], vga_limited_data[7], vga_pnas_data[7], vga_pnas_unlimited_vehicles_data[7]],\n",
    "\t\t\t\t\t\t [\"avg. comp. time\", no_ridesharing_data[6], insertion_heuristic_data[6], vga_data[6], vga_limited_data[6], vga_pnas_data[6], vga_pnas_unlimited_vehicles_data[6]]])"
   ]
  },
  {
   "cell_type": "code",
   "execution_count": 17,
   "metadata": {},
   "outputs": [
    {
     "name": "stdout",
     "output_type": "stream",
     "text": [
      "COMPARISON:\n",
      "\n",
      "\n",
      "X                               NO RIDESHARING                  INSERTION HEURISTIC             VGA                             VGA limited                     VGA PNAS                        VGA PNAS (unlimited vehicles)   \n",
      "Total veh. dist. traveled (km)  868899                          362387                          334195                          334737                          377563                          344057                          \n",
      "avg. density                    0.018292019530753472            0.008506879323291196            0.008040484528698252            0.008024886924264478            0.008855023921188943            0.008219664412244306            \n",
      "cong. segments count            220                             9                               9                               8                               14                              10                              \n",
      "dropped demand count            0                               27                              0                               0                               0                               0                               \n",
      "half congested edges            692                             129                             117                             112                             152                             115                             \n",
      "used car count                  46186                           20272                           19714                           19712                           22545                           20293                           \n",
      "avg. delay                      109                             117                             109                             109                             83                              110                             \n",
      "avg. comp. time                 918                             57                              6646                            6650                            24717                           7170                            \n"
     ]
    }
   ],
   "source": [
    "# console results\n",
    "print(\"COMPARISON:\")\n",
    "print()\n",
    "print_table(output_table)"
   ]
  },
  {
   "cell_type": "code",
   "execution_count": 18,
   "metadata": {},
   "outputs": [
    {
     "name": "stdout",
     "output_type": "stream",
     "text": [
      "Latex code:\n",
      "{\\renewcommand{\\arraystretch}{1.2}%\n",
      "\\begin{tabular}{|+l|-r|-r|-r|-r|-r|}\n",
      "\\hline\n",
      " & \\thead{No Ridesh.} & \\thead{IH} & \\thead{VGA} & \\thead{VGA lim} & \\thead{VGA PNAS*}\n",
      "\\tabularnewline\n",
      "\\hline\n",
      "\\hline\n",
      "Optimal & no & no & yes & no & no\n",
      "\\tabularnewline\n",
      "\\hline\n",
      "\\rowstyle{\\bfseries}\n",
      "Total veh. dist. (km) & \\num{868899} & \\num{362387} & \\num{334195} & \\num{334737}& \\num{377563} (\\num{344057})\n",
      "\\tabularnewline\n",
      "\\hline\n",
      "Avg. delay (s) & \\num{109} & \\num{117} & \\num{109} & \\num{109} & \\num{83} (\\num{110})\n",
      "\\tabularnewline\n",
      "\\hline\n",
      "Avg. density (veh/km) & \\num{0.0183} & \\num{0.0085} & \\num{0.008} & \\num{0.008} & \\num{0.0089} (\\num{0.0082})\n",
      "\\tabularnewline\n",
      "\\hline\n",
      "Congested seg. & \\num{220} & \\num{9} & \\num{9} & \\num{8} & \\num{14} (\\num{10})\n",
      "\\tabularnewline\n",
      "\\hline\n",
      "Heavily loaded seg.  & \\num{692} & \\num{129} & \\num{117} & \\num{112} & \\num{152} (\\num{115})\n",
      "\\tabularnewline\n",
      "\\hline\n",
      "Used Vehicles  & \\num{46186} & \\num{20272} & \\num{19714} & \\num{19712} & \\num{22545} (\\num{20293})\n",
      "\\tabularnewline\n",
      "\\hline\n",
      "Avg. comp. time (ms)  & \\num{918} & \\num{57} & \\num{6646} & \\num{6650} & \\num{24717} (\\num{7170})\n",
      "\\tabularnewline\n",
      "\\hline\n",
      "\\end{tabular}}\n"
     ]
    }
   ],
   "source": [
    "# latex table\n",
    "print(\"Latex code:\")\n",
    "print(r\"{\\renewcommand{\\arraystretch}{1.2}%\")\n",
    "print(r\"\\begin{tabular}{|+l|-r|-r|-r|-r|-r|}\")\n",
    "print(r\"\\hline\")\n",
    "print(r\" & \\thead{No Ridesh.} & \\thead{IH} & \\thead{VGA} & \\thead{VGA lim} & \\thead{VGA PNAS*}\")\n",
    "print(r\"\\tabularnewline\")\n",
    "print(r\"\\hline\")\n",
    "print(r\"\\hline\")\n",
    "print(\"Optimal & no & no & yes & no & no\")\n",
    "print(r\"\\tabularnewline\")\n",
    "print(r\"\\hline\")\n",
    "print(r\"\\rowstyle{\\bfseries}\")\n",
    "print(\"Total veh. dist. (km) & \\\\num{{{}}} & \\\\num{{{}}} & \\\\num{{{}}} & \\\\num{{{}}}& \\\\num{{{}}} (\\\\num{{{}}})\".format(no_ridesharing_data[0],\n",
    "\tinsertion_heuristic_data[0], vga_data[0], vga_limited_data[0], vga_pnas_data[0], vga_pnas_unlimited_vehicles_data[0]))\n",
    "print(r\"\\tabularnewline\")\n",
    "print(r\"\\hline\")\n",
    "print(\"Avg. delay (s) & \\\\num{{{}}} & \\\\num{{{}}} & \\\\num{{{}}} & \\\\num{{{}}} & \\\\num{{{}}} (\\\\num{{{}}})\".format(no_ridesharing_data[7], insertion_heuristic_data[7], vga_data[7],\n",
    "\tvga_limited_data[7], vga_pnas_data[7], vga_pnas_unlimited_vehicles_data[7]))\n",
    "print(r\"\\tabularnewline\")\n",
    "print(r\"\\hline\")\n",
    "print(\"Avg. density (veh/km) & \\\\num{{{}}} & \\\\num{{{}}} & \\\\num{{{}}} & \\\\num{{{}}} & \\\\num{{{}}} (\\\\num{{{}}})\".format(round(no_ridesharing_data[1], 4),\n",
    "\t round(insertion_heuristic_data[1], 4), round(vga_data[1], 4), round(vga_limited_data[1], 4), round(vga_pnas_data[1], 4),\n",
    "    round(vga_pnas_unlimited_vehicles_data[1], 4)))\n",
    "print(r\"\\tabularnewline\")\n",
    "print(r\"\\hline\")\n",
    "print(\"Congested seg. & \\\\num{{{}}} & \\\\num{{{}}} & \\\\num{{{}}} & \\\\num{{{}}} & \\\\num{{{}}} (\\\\num{{{}}})\".format(no_ridesharing_data[2], insertion_heuristic_data[2], vga_data[2],\n",
    "\tvga_limited_data[2], vga_pnas_data[2], vga_pnas_unlimited_vehicles_data[2] ))\n",
    "print(r\"\\tabularnewline\")\n",
    "print(r\"\\hline\")\n",
    "print(\"Heavily loaded seg.  & \\\\num{{{}}} & \\\\num{{{}}} & \\\\num{{{}}} & \\\\num{{{}}} & \\\\num{{{}}} (\\\\num{{{}}})\".format(round(no_ridesharing_data[4], 1),\n",
    "\tround(insertion_heuristic_data[4], 1), round(vga_data[4], 1), round(vga_limited_data[4], 1), round(vga_pnas_data[4], 1),\n",
    "     round(vga_pnas_unlimited_vehicles_data[4], 1)))\n",
    "print(r\"\\tabularnewline\")\n",
    "print(r\"\\hline\")\n",
    "print(\"Used Vehicles  & \\\\num{{{}}} & \\\\num{{{}}} & \\\\num{{{}}} & \\\\num{{{}}} & \\\\num{{{}}} (\\\\num{{{}}})\".format(no_ridesharing_data[5], insertion_heuristic_data[5], vga_data[5],\n",
    "\tvga_limited_data[5], vga_pnas_data[5], vga_pnas_unlimited_vehicles_data[5]))\n",
    "print(r\"\\tabularnewline\")\n",
    "print(r\"\\hline\")\n",
    "print(\"Avg. comp. time (ms)  & \\\\num{{{}}} & \\\\num{{{}}} & \\\\num{{{}}} & \\\\num{{{}}} & \\\\num{{{}}} (\\\\num{{{}}})\".format(no_ridesharing_data[6], insertion_heuristic_data[6], vga_data[6],\n",
    "\tvga_limited_data[6], vga_pnas_data[6], vga_pnas_unlimited_vehicles_data[6]))\n",
    "print(r\"\\tabularnewline\")\n",
    "print(r\"\\hline\")\n",
    "print(r\"\\end{tabular}}\")"
   ]
  },
  {
   "cell_type": "markdown",
   "metadata": {},
   "source": [
    "# Occupancy Histogram Comparison"
   ]
  },
  {
   "cell_type": "code",
   "execution_count": 104,
   "metadata": {},
   "outputs": [],
   "source": [
    "def configure_subplot(axis):\n",
    "\taxis.yaxis.set_ticks(np.arange(0, 2040002, 240000))\n",
    "\taxis.yaxis.set_major_formatter(FuncFormatter(format_time))\n",
    "\taxis.xaxis.set_ticks(np.arange(0, 6, 1))\n",
    "    \n",
    "def format_time(minutes: int, position) -> str:\n",
    "\t# return str(datetime.timedelta(minutes=minutes))\n",
    "\treturn str(int(round(minutes / 60)))"
   ]
  },
  {
   "cell_type": "code",
   "execution_count": 89,
   "metadata": {},
   "outputs": [
    {
     "data": {
      "image/png": "[encoded data removed]",
      "text/plain": [
       "<Figure size 288x216 with 1 Axes>"
      ]
     },
     "metadata": {
      "needs_background": "light"
     },
     "output_type": "display_data"
    }
   ],
   "source": [
    "fig, axis = plt.subplots(1, 1, figsize=(4, 3))\n",
    "\n",
    "# decrease space between subplots\n",
    "fig.subplots_adjust(wspace=0.05)"
   ]
  },
  {
   "cell_type": "code",
   "execution_count": 105,
   "metadata": {},
   "outputs": [],
   "source": [
    "axis.set_xlabel(\"persons per vehicle\")\n",
    "axis.set_ylabel(\"vehicle hours\")\n",
    "configure_subplot(axis)"
   ]
  },
  {
   "cell_type": "code",
   "execution_count": 91,
   "metadata": {},
   "outputs": [],
   "source": [
    "occupancy_data = [\n",
    "    no_ridesharing_data[8]['occupancy'], \n",
    "    insertion_heuristic_data[8]['occupancy'], \n",
    "    vga_data[8]['occupancy'], \n",
    "    vga_limited_data[8]['occupancy'], \n",
    "    vga_pnas_data[8]['occupancy']\n",
    "]\n",
    "bins = np.arange(-0.5, 6.5, 1)\n",
    "_n, _bins, patches = axis.hist(occupancy_data, bins, label=common.labels[1:], color=common.colors[1:])"
   ]
  },
  {
   "cell_type": "code",
   "execution_count": 94,
   "metadata": {},
   "outputs": [],
   "source": [
    "for patch_set, hatch in zip(patches, common.hatches):\n",
    "    plt.setp(patch_set, hatch=hatch)"
   ]
  },
  {
   "cell_type": "code",
   "execution_count": 96,
   "metadata": {},
   "outputs": [
    {
     "data": {
      "text/plain": [
       "<matplotlib.legend.Legend at 0x276008b2af0>"
      ]
     },
     "execution_count": 96,
     "metadata": {},
     "output_type": "execute_result"
    }
   ],
   "source": [
    "axis.legend(loc='upper right')"
   ]
  },
  {
   "cell_type": "code",
   "execution_count": 106,
   "metadata": {},
   "outputs": [
    {
     "data": {
      "image/png": "[encoded data removed]",
      "text/plain": [
       "<Figure size 288x216 with 1 Axes>"
      ]
     },
     "execution_count": 106,
     "metadata": {},
     "output_type": "execute_result"
    }
   ],
   "source": [
    "fig"
   ]
  },
  {
   "cell_type": "code",
   "execution_count": 107,
   "metadata": {},
   "outputs": [],
   "source": [
    "fig.savefig(\n",
    "    config.images.occupancy_histogram_comparison_combined, \n",
    "    bbox_inches='tight', \n",
    "    transparent=True, \n",
    "    pad_inches=0.02, \n",
    "    dpi=fig.dpi\n",
    ")"
   ]
  },
  {
   "cell_type": "markdown",
   "source": [
    "# Comparison table - delay 7  min capacity 10\n"
   ],
   "metadata": {
    "collapsed": false
   }
  },
  {
   "cell_type": "code",
   "execution_count": 13,
   "outputs": [],
   "source": [
    "experiment_dirs = [\n",
    "    r\"C:\\AIC Experiment Data\\VGA Manhattan\\experiments\\max_delay_7_min_capacity_10\\ih/\",\n",
    "    r\"C:\\AIC Experiment Data\\VGA Manhattan\\experiments\\max_delay_7_min_capacity_10\\vga-lim/\",\n",
    "    r\"C:\\AIC Experiment Data\\VGA Manhattan\\experiments\\max_delay_7_min_capacity_10\\vga-pnas/\"\n",
    "]"
   ],
   "metadata": {
    "collapsed": false,
    "pycharm": {
     "name": "#%%\n"
    }
   }
  },
  {
   "cell_type": "code",
   "execution_count": 14,
   "outputs": [
    {
     "name": "stdout",
     "output_type": "stream",
     "text": [
      "[22:53:54]: Loading json file from: C:\\AIC Experiment Data\\VGA Manhattan\\experiments\\max_delay_7_min_capacity_10\\ih\\result.json\n",
      "[22:53:57]: Loading edge load history from: C:\\AIC Experiment Data\\VGA Manhattan\\experiments\\max_delay_7_min_capacity_10\\ih/allEdgesLoadHistory.json\n",
      "[22:53:57]: counting average load\n",
      "[22:53:57]: Loading csv file from: C:\\AIC Experiment Data\\VGA Manhattan\\experiments\\max_delay_7_min_capacity_10\\ih\\ridesharing.csv to dataframe\n",
      "[22:53:57]: Loading json file from: C:\\AIC Experiment Data\\VGA Manhattan\\experiments\\max_delay_7_min_capacity_10\\vga-lim\\result.json\n",
      "[22:53:59]: Loading edge load history from: C:\\AIC Experiment Data\\VGA Manhattan\\experiments\\max_delay_7_min_capacity_10\\vga-lim/allEdgesLoadHistory.json\n",
      "[22:53:59]: counting average load\n",
      "[22:54:00]: Loading csv file from: C:\\AIC Experiment Data\\VGA Manhattan\\experiments\\max_delay_7_min_capacity_10\\vga-lim\\ridesharing.csv to dataframe\n",
      "[22:54:00]: Loading json file from: C:\\AIC Experiment Data\\VGA Manhattan\\experiments\\max_delay_7_min_capacity_10\\vga-pnas\\result.json\n",
      "[22:54:02]: Loading edge load history from: C:\\AIC Experiment Data\\VGA Manhattan\\experiments\\max_delay_7_min_capacity_10\\vga-pnas/allEdgesLoadHistory.json\n",
      "[22:54:02]: counting average load\n",
      "[22:54:02]: Loading csv file from: C:\\AIC Experiment Data\\VGA Manhattan\\experiments\\max_delay_7_min_capacity_10\\vga-pnas\\ridesharing.csv to dataframe\n"
     ]
    }
   ],
   "source": [
    "insertion_heuristic_data_hard_exp = compute_stats(experiment_dirs[0], histogram, edge_data)\n",
    "vga_limited_data_hard_exp = compute_stats(experiment_dirs[1], histogram, edge_data)\n",
    "vga_pnas_data_hard_exp = compute_stats(experiment_dirs[2], histogram, edge_data)"
   ],
   "metadata": {
    "collapsed": false,
    "pycharm": {
     "name": "#%%\n"
    }
   }
  },
  {
   "cell_type": "code",
   "execution_count": 15,
   "outputs": [],
   "source": [
    "output_table = np.array([[\"X\", \"INSERTION HEURISTIC\", \"VGA limited\", \"VGA PNAS (unlimited vehicles)\"],\n",
    "\t\t\t\t\t\t [\"Total veh. dist. traveled (km)\", insertion_heuristic_data_hard_exp[0], vga_limited_data_hard_exp[0], vga_pnas_data_hard_exp[0]],\n",
    "\t\t\t\t\t\t [\"avg. density\", insertion_heuristic_data_hard_exp[1], vga_limited_data_hard_exp[1], vga_pnas_data_hard_exp[1]],\n",
    "\t\t\t\t\t\t [\"cong. segments count\", insertion_heuristic_data_hard_exp[2], vga_limited_data_hard_exp[2], vga_pnas_data_hard_exp[2]],\n",
    "\t\t\t\t\t\t [\"dropped demand count\", insertion_heuristic_data_hard_exp[3], vga_limited_data_hard_exp[3], vga_pnas_data_hard_exp[3]],\n",
    "\t\t\t\t\t\t [\"half congested edges\", insertion_heuristic_data_hard_exp[4], vga_limited_data_hard_exp[4], vga_pnas_data_hard_exp[4]],\n",
    "\t\t\t\t\t\t [\"used car count\", insertion_heuristic_data_hard_exp[5], vga_limited_data_hard_exp[5], vga_pnas_data_hard_exp[5]],\n",
    "\t\t\t\t\t\t [\"avg. delay\", insertion_heuristic_data_hard_exp[7], vga_limited_data_hard_exp[7], vga_pnas_data_hard_exp[7]],\n",
    "\t\t\t\t\t\t [\"avg. comp. time\", insertion_heuristic_data_hard_exp[6], vga_limited_data_hard_exp[6], vga_pnas_data_hard_exp[6]]])"
   ],
   "metadata": {
    "collapsed": false,
    "pycharm": {
     "name": "#%%\n"
    }
   }
  },
  {
   "cell_type": "code",
   "execution_count": 16,
   "outputs": [
    {
     "name": "stdout",
     "output_type": "stream",
     "text": [
      "COMPARISON - delay 7 minute, vehicle capacity 10:\n",
      "\n",
      "\n",
      "X                               INSERTION HEURISTIC             VGA limited                     VGA PNAS (unlimited vehicles)   \n",
      "Total veh. dist. traveled (km)  233859                          275028                          267471                          \n",
      "avg. density                    0.005962926163576181            0.006707806609071858            0.006615194417454474            \n",
      "cong. segments count            0                               1                               0                               \n",
      "dropped demand count            0                               0                               0                               \n",
      "half congested edges            24                              53                              48                              \n",
      "used car count                  13319                           16517                           16025                           \n",
      "avg. delay                      227                             224                             217                             \n",
      "avg. comp. time                 25                              57554                           139811                          \n"
     ]
    }
   ],
   "source": [
    "# console results\n",
    "print(\"COMPARISON - delay 7 minute, vehicle capacity 10:\")\n",
    "print()\n",
    "print_table(output_table)"
   ],
   "metadata": {
    "collapsed": false,
    "pycharm": {
     "name": "#%%\n"
    }
   }
  },
  {
   "cell_type": "code",
   "execution_count": 18,
   "outputs": [
    {
     "name": "stdout",
     "output_type": "stream",
     "text": [
      "Latex code:\n",
      "{\\renewcommand{\\arraystretch}{1.2}%\n",
      "\\begin{tabular}{|+l|-r|-r|-r|-r|-r|}\n",
      "\\hline\n",
      " & \\thead{IH} & \\thead{VGA lim} & \\thead{VGA PNAS*}\n",
      "\\tabularnewline\n",
      "\\hline\n",
      "\\hline\n",
      "Optimal & no & no & yes & no & no\n",
      "\\tabularnewline\n",
      "\\hline\n",
      "\\rowstyle{\\bfseries}\n",
      "Total veh. dist. (km) & \\num{233859} & \\num{275028} & \\num{267471}\n",
      "\\tabularnewline\n",
      "\\hline\n",
      "Avg. delay (s) & \\num{227} & \\num{224} & \\num{217}\n",
      "\\tabularnewline\n",
      "\\hline\n",
      "Avg. density (veh/km) & \\num{0.006} & \\num{0.0067} & \\num{0.0066}\n",
      "\\tabularnewline\n",
      "\\hline\n",
      "Congested seg. & \\num{0} & \\num{1} & \\num{0}\n",
      "\\tabularnewline\n",
      "\\hline\n",
      "Heavily loaded seg.  & \\num{24} & \\num{53} & \\num{48}\n",
      "\\tabularnewline\n",
      "\\hline\n",
      "Used Vehicles  & \\num{13319} & \\num{16517} & \\num{16025}\n",
      "\\tabularnewline\n",
      "\\hline\n",
      "Avg. comp. time (ms)  & \\num{25} & \\num{57554} & \\num{139811}\n",
      "\\tabularnewline\n",
      "\\hline\n",
      "\\end{tabular}}\n"
     ]
    }
   ],
   "source": [
    "# latex table\n",
    "print(\"Latex code:\")\n",
    "print(r\"{\\renewcommand{\\arraystretch}{1.2}%\")\n",
    "print(r\"\\begin{tabular}{|+l|-r|-r|-r|-r|-r|}\")\n",
    "print(r\"\\hline\")\n",
    "print(r\" & \\thead{IH} & \\thead{VGA lim} & \\thead{VGA PNAS*}\")\n",
    "print(r\"\\tabularnewline\")\n",
    "print(r\"\\hline\")\n",
    "print(r\"\\hline\")\n",
    "print(\"Optimal & no & no & yes & no & no\")\n",
    "print(r\"\\tabularnewline\")\n",
    "print(r\"\\hline\")\n",
    "print(r\"\\rowstyle{\\bfseries}\")\n",
    "print(\"Total veh. dist. (km) & \\\\num{{{}}} & \\\\num{{{}}} & \\\\num{{{}}}\".format(\n",
    "    insertion_heuristic_data_hard_exp[0], vga_limited_data_hard_exp[0], vga_pnas_data_hard_exp[0]))\n",
    "print(r\"\\tabularnewline\")\n",
    "print(r\"\\hline\")\n",
    "print(\"Avg. delay (s) & \\\\num{{{}}} & \\\\num{{{}}} & \\\\num{{{}}}\".format(\n",
    "    insertion_heuristic_data_hard_exp[7], vga_limited_data_hard_exp[7], vga_pnas_data_hard_exp[7]))\n",
    "print(r\"\\tabularnewline\")\n",
    "print(r\"\\hline\")\n",
    "print(\"Avg. density (veh/km) & \\\\num{{{}}} & \\\\num{{{}}} & \\\\num{{{}}}\".format(\n",
    "    round(insertion_heuristic_data_hard_exp[1], 4), round(vga_limited_data_hard_exp[1], 4), round(vga_pnas_data_hard_exp[1], 4)))\n",
    "print(r\"\\tabularnewline\")\n",
    "print(r\"\\hline\")\n",
    "print(\"Congested seg. & \\\\num{{{}}} & \\\\num{{{}}} & \\\\num{{{}}}\".format(\n",
    "    insertion_heuristic_data_hard_exp[2], vga_limited_data_hard_exp[2], vga_pnas_data_hard_exp[2]))\n",
    "print(r\"\\tabularnewline\")\n",
    "print(r\"\\hline\")\n",
    "print(\"Heavily loaded seg.  & \\\\num{{{}}} & \\\\num{{{}}} & \\\\num{{{}}}\".format(\n",
    "    round(insertion_heuristic_data_hard_exp[4], 1), round(vga_limited_data_hard_exp[4], 1), round(vga_pnas_data_hard_exp[4], 1)))\n",
    "print(r\"\\tabularnewline\")\n",
    "print(r\"\\hline\")\n",
    "print(\"Used Vehicles  & \\\\num{{{}}} & \\\\num{{{}}} & \\\\num{{{}}}\".format(\n",
    "    insertion_heuristic_data_hard_exp[5], vga_limited_data_hard_exp[5], vga_pnas_data_hard_exp[5]))\n",
    "print(r\"\\tabularnewline\")\n",
    "print(r\"\\hline\")\n",
    "print(\"Avg. comp. time (ms)  & \\\\num{{{}}} & \\\\num{{{}}} & \\\\num{{{}}}\".format(\n",
    "    insertion_heuristic_data_hard_exp[6], vga_limited_data_hard_exp[6], vga_pnas_data_hard_exp[6]))\n",
    "print(r\"\\tabularnewline\")\n",
    "print(r\"\\hline\")\n",
    "print(r\"\\end{tabular}}\")"
   ],
   "metadata": {
    "collapsed": false,
    "pycharm": {
     "name": "#%%\n"
    }
   }
  },
  {
   "cell_type": "code",
   "execution_count": 101,
   "metadata": {},
   "outputs": [
    {
     "data": {
      "text/plain": [
       "2254122"
      ]
     },
     "execution_count": 101,
     "metadata": {},
     "output_type": "execute_result"
    }
   ],
   "source": [
    "no_ridesharing_data[8]['occupancy'].count()"
   ]
  },
  {
   "cell_type": "code",
   "execution_count": 102,
   "metadata": {},
   "outputs": [
    {
     "data": {
      "text/plain": [
       "995790"
      ]
     },
     "execution_count": 102,
     "metadata": {},
     "output_type": "execute_result"
    }
   ],
   "source": [
    "insertion_heuristic_data[8]['occupancy'].count()"
   ]
  },
  {
   "cell_type": "code",
   "execution_count": null,
   "metadata": {},
   "outputs": [],
   "source": []
  }
 ],
 "metadata": {
  "kernelspec": {
   "display_name": "Python 3",
   "language": "python",
   "name": "python3"
  },
  "language_info": {
   "codemirror_mode": {
    "name": "ipython",
    "version": 3
   },
   "file_extension": ".py",
   "mimetype": "text/x-python",
   "name": "python",
   "nbconvert_exporter": "python",
   "pygments_lexer": "ipython3",
   "version": "3.9.0"
  }
 },
 "nbformat": 4,
 "nbformat_minor": 4
}