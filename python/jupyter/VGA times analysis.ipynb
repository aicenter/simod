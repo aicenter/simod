{
 "cells": [
  {
   "cell_type": "code",
   "execution_count": 2,
   "metadata": {},
   "outputs": [
    {
     "name": "stderr",
     "output_type": "stream",
     "text": [
      "INFO:root:Loading config for project RoadmaptoolsConfig (can be overwritten later)\n",
      "INFO:root:map_dir: FILL YOUR MAP DIR HERE\n",
      "osm_source_url: https://s3.amazonaws.com/metro-extracts.mapzen.com/valencia_spain.osm.bz2\n",
      "osm_map_filename: FILL YOUR MAP DIR HEREmap.osm\n",
      "filtered_osm_filename: FILL YOUR MAP DIR HEREmap-filtered.osm\n",
      "geojson_file: FILL YOUR MAP DIR HEREmap.geojson\n",
      "cleaned_geojson_file: FILL YOUR MAP DIR HEREmap-cleaned.geojson\n",
      "sanitized_geojson_file: FILL YOUR MAP DIR HEREmap-sanitized.geojson\n",
      "simplified_file: FILL YOUR MAP DIR HEREmap-simplified.geojson\n",
      "simplified_file_with_speed: FILL YOUR MAP DIR HEREmap-simplified-speed.geojson\n",
      "simplified_file_with_speed_and_curvature: FILL YOUR MAP DIR HEREmap-simplified-speed-curvature.geojson\n",
      "ap_nodes_file: FILL YOUR MAP DIR HEREnodes.geojson\n",
      "ap_edges_file: FILL YOUR MAP DIR HEREedges.geojson\n",
      "utm_center_lon: 50.0877506\n",
      "utm_center_lat: 14.4209293\n",
      "shift_utm_coordinate_origin_to_utm_center: False\n",
      "shapely_error_tolerance: 0.005\n",
      "osm_filter_params: --keep=\"highway=motorway =motorway_link =trunk =trunk_link =primary =primary_link =secondary =secondary_link =tertiary =tertiary_link =unclassified =unclassified_link =residential =residential_link =living_street\" --drop=\"access=no\"\n",
      "south: 49.94\n",
      "east: 14.22\n",
      "north: 50.17\n",
      "west: 14.71\n",
      "amodsim_data_dir: C:/AIC Experiment Data/VGA/\n",
      "experiments_dir: C:/AIC Experiment Data/VGA/experiments/\n",
      "experiment_name: vga-changed_solver_params\n",
      "ridesharing.method: vga\n",
      "ridesharing.vga.group_generation_time_limit: 0\n",
      "ridesharing.vga.solver_time_limit: 0\n",
      "ridesharing.vga.solver_min_gap: 0.0002\n",
      "agentpolis.visio.show_visio: False\n",
      "\n",
      "INFO:root:Loading config for project AmodsimConfig (can be overwritten later)\n",
      "INFO:root:roadmaptools.map_dir: FILL YOUR MAP DIR HERE\n",
      "roadmaptools.osm_source_url: https://s3.amazonaws.com/metro-extracts.mapzen.com/valencia_spain.osm.bz2\n",
      "roadmaptools.osm_map_filename: FILL YOUR MAP DIR HEREmap.osm\n",
      "roadmaptools.filtered_osm_filename: FILL YOUR MAP DIR HEREmap-filtered.osm\n",
      "roadmaptools.geojson_file: FILL YOUR MAP DIR HEREmap.geojson\n",
      "roadmaptools.cleaned_geojson_file: FILL YOUR MAP DIR HEREmap-cleaned.geojson\n",
      "roadmaptools.sanitized_geojson_file: FILL YOUR MAP DIR HEREmap-sanitized.geojson\n",
      "roadmaptools.simplified_file: FILL YOUR MAP DIR HEREmap-simplified.geojson\n",
      "roadmaptools.simplified_file_with_speed: FILL YOUR MAP DIR HEREmap-simplified-speed.geojson\n",
      "roadmaptools.simplified_file_with_speed_and_curvature: FILL YOUR MAP DIR HEREmap-simplified-speed-curvature.geojson\n",
      "roadmaptools.ap_nodes_file: FILL YOUR MAP DIR HEREnodes.geojson\n",
      "roadmaptools.ap_edges_file: FILL YOUR MAP DIR HEREedges.geojson\n",
      "roadmaptools.utm_center_lon: 50.0877506\n",
      "roadmaptools.utm_center_lat: 14.4209293\n",
      "roadmaptools.shift_utm_coordinate_origin_to_utm_center: False\n",
      "roadmaptools.shapely_error_tolerance: 0.005\n",
      "roadmaptools.osm_filter_params: --keep=\"highway=motorway =motorway_link =trunk =trunk_link =primary =primary_link =secondary =secondary_link =tertiary =tertiary_link =unclassified =unclassified_link =residential =residential_link =living_street\" --drop=\"access=no\"\n",
      "south: 49.94\n",
      "east: 14.22\n",
      "north: 50.17\n",
      "west: 14.71\n",
      "data_dir: C:/AIC Experiment data/VGA/\n",
      "map_dir: C:/AIC Experiment data/VGA/maps/\n",
      "experiments_dir: C:/AIC Experiment Data/VGA/experiments/\n",
      "rci_experiments_dir: HERE FILL THE PROJECT RCI EXPERIMENT DIR PATH/\n",
      "experiment_name: vga-changed_solver_params\n",
      "experiment_dir: C:/AIC Experiment Data/VGA/experiments/vga-changed_solver_params/\n",
      "critical_density: 0.08\n",
      "simplify_graph: True\n",
      "edges_file_path: C:/AIC Experiment data/VGA/edges\n",
      "edge_pairs_file_path: C:/AIC Experiment data/VGA/edge_pairs\n",
      "trips_filename: trips\n",
      "trips_path: C:/AIC Experiment data/VGA/trips.txt\n",
      "distance_matrix_filepath: C:/AIC Experiment data/VGA/dm.csv\n",
      "station_position_filepath: C:/AIC Experiment data/VGA/station_positions.csv\n",
      "vehicle_speed_in_meters_per_second: 40.0\n",
      "main_roads_graph_filepath: C:/AIC Experiment data/VGA/maps/main_roads_map.geojson\n",
      "trips_multiplier: 3.433\n",
      "uber_speeds_file_path: \n",
      "statistics.result_file_name: result.json\n",
      "statistics.result_file_path: C:/AIC Experiment Data/VGA/experiments/vga-changed_solver_params/result.json\n",
      "statistics.all_edges_load_history_file_name: allEdgesLoadHistory.json\n",
      "statistics.all_edges_load_history_file_path: C:/AIC Experiment Data/VGA/experiments/vga-changed_solver_params/allEdgesLoadHistory.json\n",
      "statistics.occupancies_file_name: vehicle_occupancy.csv\n",
      "statistics.occupancies_file_path: C:/AIC Experiment Data/VGA/experiments/vga-changed_solver_params/vehicle_occupancy.csv\n",
      "statistics.service_file_name: service.csv\n",
      "statistics.transit_file_name: transit.csv\n",
      "statistics.ridesharing_stats_file_name: ridesharing.csv\n",
      "statistics.trip_distances_file_path: C:/AIC Experiment Data/VGA/experiments/vga-changed_solver_params/demand_trip_lengths.csv\n",
      "analysis.chosen_window_start: 3\n",
      "analysis.chosen_window_end: 8\n",
      "analysis.trips_multiplier: 1.0\n",
      "images.images_dir: C:/AIC Experiment data/VGA//img/\n",
      "images.occupancy_histogram: C:/AIC Experiment data/VGA//img/occupancy.pdf\n",
      "images.occupancy_histogram_window: C:/AIC Experiment data/VGA//img/occupancy-window.pdf\n",
      "images.occupancy_histogram_comparison: C:/AIC Experiment data/VGA//img/occupancy-comparison-gglimit.pdf\n",
      "images.occupancy_histogram_comparison_combined: C:/AIC Experiment data/VGA//img/occupancy-comparison-gglimit-combined.pdf\n",
      "images.delay_histogram_comparison: C:/AIC Experiment data/VGA//img/delay-comparison-gglimit.pdf\n",
      "images.delay_histogram_comparison_combined: C:/AIC Experiment data/VGA//img/delay-comparison-gglimit-combined.pdf\n",
      "images.traffic_density_map_comparison: C:/AIC Experiment data/VGA//img/traffic_density_map_comparison.png\n",
      "images.ridesharing_performance_comparison: C:/AIC Experiment data/VGA//img/ridesharing_performance_comparison.pdf\n",
      "images.stations: C:/AIC Experiment data/VGA//img/stations.png\n",
      "images.demand_heatmap: C:/AIC Experiment data/VGA//img/demand.png\n",
      "images.distance_delay_tradeoff: C:/AIC Experiment data/VGA//img/distance_delay_tradeoff.pdf\n",
      "images.vga_times: C:/AIC Experiment data/VGA//img/vga_simulation_time.pdf\n",
      "images.vga_group_size: C:/AIC Experiment data/VGA//img/vga_group_size.pdf\n",
      "images.demand_trip_duration_histogram: C:/AIC Experiment data/VGA//img/demand_trip_duration_histogram.pdf\n",
      "images.demand_example: C:/AIC Experiment data/VGA//img/demand_example.png\n",
      "images.sensitivity_analysis: C:/AIC Experiment data/VGA//img/sensitivity_analysis.pdf\n",
      "comparison.experiment_1_name: ih-nr\n",
      "comparison.experiment_1_dir: C:/AIC Experiment Data/VGA/experiments/ih-nr/\n",
      "comparison.experiment_2_name: ih\n",
      "comparison.experiment_2_dir: C:/AIC Experiment Data/VGA/experiments/ih/\n",
      "comparison.experiment_3_name: vga_gap_0002\n",
      "comparison.experiment_3_dir: C:/AIC Experiment Data/VGA/experiments/vga_gap_0002/\n",
      "comparison.experiment_4_name: vga-lim_gap_005_gg_60ms\n",
      "comparison.experiment_4_dir: C:/AIC Experiment Data/VGA/experiments/vga-lim_gap_005_gg_60ms/\n",
      "comparison.experiment_5_name: sw-ih-nr\n",
      "comparison.experiment_5_dir: C:/AIC Experiment Data/VGA/experiments/sw-ih-nr/\n",
      "comparison.experiment_6_name: sw-ih\n",
      "comparison.experiment_6_dir: C:/AIC Experiment Data/VGA/experiments/sw-ih/\n",
      "comparison.experiment_7_name: sw-vga-gap_0002\n",
      "comparison.experiment_7_dir: C:/AIC Experiment Data/VGA/experiments/sw-vga-gap_0002/\n",
      "comparison.experiment_8_name: sw-vga-lim_gap_005_gg_60ms\n",
      "comparison.experiment_8_dir: C:/AIC Experiment Data/VGA/experiments/sw-vga-lim_gap_005_gg_60ms/\n",
      "comparison.experiment_9_name: vga-pnas\n",
      "comparison.experiment_9_dir: C:/AIC Experiment Data/VGA/experiments/vga-pnas/\n",
      "comparison.experiment_10_name: sw-vga-pnas\n",
      "comparison.experiment_10_dir: C:/AIC Experiment Data/VGA/experiments/sw-vga-pnas/\n",
      "ridesharing.max_prolongation_in_seconds: 600\n",
      "ridesharing.method: vga\n",
      "ridesharing.vga.group_generation_time_limit: 0\n",
      "ridesharing.vga.solver_time_limit: 0\n",
      "ridesharing.vga.solver_min_gap: 0.0002\n",
      "agentpolis.map_nodes_filepath: C:/AIC Experiment data/VGA/maps/nodes.geojson\n",
      "agentpolis.map_edges_filepath: C:/AIC Experiment data/VGA/maps/edges.geojson\n",
      "agentpolis.visio.show_visio: False\n",
      "amodsim_data_dir: C:/AIC Experiment Data/VGA/\n",
      "\n"
     ]
    }
   ],
   "source": [
    "import sys\n",
    "sys.argv.append(\"-lc=C:/Workspaces/AIC/simod/local_config_files/AIC/vga-gap_0002.cfg\")\n",
    "from amodsim.init import config"
   ]
  },
  {
   "cell_type": "code",
   "execution_count": 2,
   "metadata": {
    "pycharm": {
     "is_executing": false
    }
   },
   "outputs": [],
   "source": [
    "# using the matplotlib inline mode, we can see the progress when updating our figure\n",
    "%matplotlib inline"
   ]
  },
  {
   "cell_type": "code",
   "execution_count": 3,
   "metadata": {
    "pycharm": {
     "is_executing": false
    }
   },
   "outputs": [],
   "source": [
    "import csv\n",
    "import pandas as pd\n",
    "import matplotlib.pyplot as plt\n",
    "from matplotlib import ticker\n",
    "import numpy as np\n",
    "\n",
    "from amodsim.statistics.comparisons.common import Experiment"
   ]
  },
  {
   "cell_type": "code",
   "execution_count": 4,
   "metadata": {
    "pycharm": {
     "is_executing": false
    }
   },
   "outputs": [],
   "source": [
    "ridesharing_filepath = r\"C:/AIC Experiment Data/VGA/experiments/vga_gap_0002/ridesharing.csv\"\n",
    "ridesharing_filepath_lim = r\"C:/AIC Experiment Data/VGA/experiments/vga-lim_gap_005_gg_60ms/ridesharing.csv\"\n",
    "\n",
    "max_possible_group_size = 15"
   ]
  },
  {
   "cell_type": "code",
   "execution_count": 5,
   "metadata": {
    "pycharm": {
     "is_executing": false
    }
   },
   "outputs": [],
   "source": [
    "with open(ridesharing_filepath, 'r', encoding=\"utf-8\") as ridesharing:\n",
    "    r = pd.read_csv(ridesharing)\n",
    "\n",
    "with open(ridesharing_filepath_lim, 'r', encoding=\"utf-8\") as ridesharing:\n",
    "    r_lim = pd.read_csv(ridesharing)"
   ]
  },
  {
   "cell_type": "code",
   "execution_count": 6,
   "metadata": {
    "pycharm": {
     "is_executing": false
    }
   },
   "outputs": [],
   "source": [
    "def get_max_group_size_row(row: pd.Series) -> int:\n",
    "    for size in range(1, max_possible_group_size):\n",
    "        column_name = \"{} Groups Count\".format(size)\n",
    "        if column_name in row and row[column_name] > 0:\n",
    "            continue\n",
    "        else:\n",
    "            return size - 1"
   ]
  },
  {
   "cell_type": "code",
   "execution_count": 7,
   "metadata": {},
   "outputs": [],
   "source": [
    "def get_group_times_per_row(row: pd.Series) -> pd.Series:\n",
    "    times = []\n",
    "    for size in range(1, max_possible_group_size):\n",
    "        column_name = \"{} Groups Total Time\".format(size)\n",
    "        if column_name in row:\n",
    "            times.append(row[column_name])\n",
    "        else:\n",
    "            break\n",
    "    return pd.Series(times)"
   ]
  },
  {
   "cell_type": "code",
   "execution_count": 8,
   "metadata": {},
   "outputs": [],
   "source": [
    "def get_group_counts_per_row(row: pd.Series) -> pd.Series:\n",
    "    counts = []\n",
    "    for size in range(1, max_possible_group_size):\n",
    "        column_name = \"{} Groups Count\".format(size)\n",
    "        if column_name in row:\n",
    "            counts.append(row[column_name])\n",
    "        else:\n",
    "            break\n",
    "    return pd.Series(counts)"
   ]
  },
  {
   "cell_type": "code",
   "execution_count": 10,
   "metadata": {
    "pycharm": {
     "is_executing": false
    }
   },
   "outputs": [],
   "source": [
    "max_group_sizes = r.apply(get_max_group_size_row, axis=1)\n",
    "max_group_sizes_lim = r_lim.apply(get_max_group_size_row, axis=1)"
   ]
  },
  {
   "cell_type": "code",
   "execution_count": 11,
   "metadata": {
    "pycharm": {
     "is_executing": false
    }
   },
   "outputs": [],
   "source": [
    "optimal_color = Experiment.VGA.color\n",
    "limited_color = Experiment.VGA_LIMITED.color"
   ]
  },
  {
   "cell_type": "code",
   "execution_count": 12,
   "metadata": {},
   "outputs": [],
   "source": [
    "@ticker.FuncFormatter\n",
    "def minute_formater(x, pos):\n",
    "    return \"{}\".format(int(x / 2))"
   ]
  },
  {
   "cell_type": "code",
   "execution_count": 24,
   "metadata": {
    "pycharm": {
     "is_executing": false
    }
   },
   "outputs": [
    {
     "data": {
      "image/png": "[encoded data removed]",
      "text/plain": [
       "<Figure size 360x432 with 3 Axes>"
      ]
     },
     "metadata": {
      "needs_background": "light"
     },
     "output_type": "display_data"
    }
   ],
   "source": [
    "fig, axes = plt.subplots(3,1, figsize=(5,6), gridspec_kw={'height_ratios': [1, 2, 5]}, sharex=True)\n",
    "ax1 = axes[0]\n",
    "ax2 = axes[1]\n",
    "ax3 = axes[2]"
   ]
  },
  {
   "cell_type": "code",
   "execution_count": 25,
   "metadata": {
    "pycharm": {
     "is_executing": false
    },
    "scrolled": false
   },
   "outputs": [
    {
     "data": {
      "text/plain": [
       "Text(12.700000000000003, 0.5, 'Ac. req. $ \\\\times 10^3 $')"
      ]
     },
     "execution_count": 25,
     "metadata": {},
     "output_type": "execute_result"
    }
   ],
   "source": [
    "# Axis 1 - Active Requests\n",
    "ax1.plot(r[\"Active Request Count\"] / 1000, color=\"red\")\n",
    "ax1.set_ylabel(r\"Ac. req. $ \\times 10^3 $\")"
   ]
  },
  {
   "cell_type": "code",
   "execution_count": 26,
   "metadata": {},
   "outputs": [
    {
     "data": {
      "text/plain": [
       "<matplotlib.legend.Legend at 0x1cd4ecab400>"
      ]
     },
     "execution_count": 26,
     "metadata": {},
     "output_type": "execute_result"
    }
   ],
   "source": [
    "# Axis 2 - Max Group Size\n",
    "ax2.plot(max_group_sizes, label=\"VGA optimal\", color=optimal_color)\n",
    "ax2.plot(max_group_sizes_lim, label=\"VGA limited\", color=limited_color)\n",
    "ax2.set_ylabel(\"Max group size\")\n",
    "ax2.set_ylim(1.5, 12)\n",
    "ax2.set_yticks(np.arange(2, 13, 2))\n",
    "ax2.legend(loc=4, prop={'size': 8})"
   ]
  },
  {
   "cell_type": "code",
   "execution_count": 27,
   "metadata": {},
   "outputs": [
    {
     "data": {
      "text/plain": [
       "<matplotlib.legend.Legend at 0x1cd4ecbeb20>"
      ]
     },
     "execution_count": 27,
     "metadata": {},
     "output_type": "execute_result"
    }
   ],
   "source": [
    "# Axis 3\n",
    "ax3.plot(r[\"Group Generation Time\"] / 1000, '-', label=\"VGA optimal group generation time\", color=optimal_color)\n",
    "ax3.plot(r[\"Solver Time\"] / 1000, '--', label=\"VGA optimal ILP solver time\", color=\"aqua\")\n",
    "ax3.plot(r_lim[\"Group Generation Time\"] / 1000, '-.', label=\"VGA limited group generation time\", color=limited_color)\n",
    "ax3.plot(r_lim[\"Solver Time\"] / 1000, ':', label=\"VGA limited ILP solver time\", color=\"orangered\")\n",
    "ax3.set_ylabel(\"Comp. time [s]\")\n",
    "ax3.set_ylim(0.5, 16000)\n",
    "ax3.set_yscale(\"log\")\n",
    "ax3.legend(loc=1, prop={'size': 8})"
   ]
  },
  {
   "cell_type": "code",
   "execution_count": 28,
   "metadata": {},
   "outputs": [],
   "source": [
    "ax3.set_xlabel(\"Simulation time [min]\")\n",
    "ax3.set_xlim(0, 180)\n",
    "ax3.xaxis.set_major_locator(ticker.MultipleLocator(20))\n",
    "ax3.xaxis.set_major_formatter(minute_formater)"
   ]
  },
  {
   "cell_type": "code",
   "execution_count": 29,
   "metadata": {},
   "outputs": [],
   "source": [
    "fig.savefig(config.images.vga_times, bbox_inches='tight', transparent=True)"
   ]
  },
  {
   "cell_type": "code",
   "execution_count": 30,
   "metadata": {
    "pycharm": {
     "is_executing": false
    }
   },
   "outputs": [
    {
     "data": {
      "image/png": "[encoded data removed]",
      "text/plain": [
       "<Figure size 360x432 with 3 Axes>"
      ]
     },
     "execution_count": 30,
     "metadata": {},
     "output_type": "execute_result"
    }
   ],
   "source": [
    "fig"
   ]
  },
  {
   "cell_type": "code",
   "execution_count": 9,
   "metadata": {},
   "outputs": [
    {
     "data": {
      "text/plain": [
       "3"
      ]
     },
     "execution_count": 9,
     "metadata": {},
     "output_type": "execute_result"
    }
   ],
   "source": [
    "get_max_group_size_row(r.iloc[0])"
   ]
  },
  {
   "cell_type": "code",
   "execution_count": null,
   "metadata": {
    "pycharm": {
     "is_executing": false
    }
   },
   "outputs": [],
   "source": [
    "rt"
   ]
  },
  {
   "cell_type": "code",
   "execution_count": 1,
   "metadata": {
    "pycharm": {
     "is_executing": false
    }
   },
   "outputs": [
    {
     "data": {
      "application/javascript": [
       "// render cell content fully instead of using scroll bar\n",
       "IPython.OutputArea.prototype._should_scroll = function(lines) {\n",
       "    return false;\n",
       "}\n"
      ],
      "text/plain": [
       "<IPython.core.display.Javascript object>"
      ]
     },
     "metadata": {},
     "output_type": "display_data"
    }
   ],
   "source": [
    "%%javascript\n",
    "// render cell content fully instead of using scroll bar\n",
    "IPython.OutputArea.prototype._should_scroll = function(lines) {\n",
    "    return false;\n",
    "}"
   ]
  },
  {
   "cell_type": "code",
   "execution_count": null,
   "metadata": {
    "pycharm": {
     "is_executing": false
    }
   },
   "outputs": [],
   "source": []
  }
 ],
 "metadata": {
  "kernelspec": {
   "display_name": "Python 3",
   "language": "python",
   "name": "python3"
  },
  "language_info": {
   "codemirror_mode": {
    "name": "ipython",
    "version": 3
   },
   "file_extension": ".py",
   "mimetype": "text/x-python",
   "name": "python",
   "nbconvert_exporter": "python",
   "pygments_lexer": "ipython3",
   "version": "3.9.0"
  }
 },
 "nbformat": 4,
 "nbformat_minor": 2
}
