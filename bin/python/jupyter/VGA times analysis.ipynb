{
 "cells": [
  {
   "cell_type": "code",
   "execution_count": 1,
   "metadata": {
    "pycharm": {
     "is_executing": false
    }
   },
   "outputs": [
    {
     "data": {
      "application/javascript": [
       "// render cell content fully instead of using scroll bar\n",
       "IPython.OutputArea.prototype._should_scroll = function(lines) {\n",
       "    return false;\n",
       "}\n"
      ],
      "text/plain": [
       "<IPython.core.display.Javascript object>"
      ]
     },
     "metadata": {},
     "output_type": "display_data"
    }
   ],
   "source": [
    "%%javascript\n",
    "// render cell content fully instead of using scroll bar\n",
    "IPython.OutputArea.prototype._should_scroll = function(lines) {\n",
    "    return false;\n",
    "}"
   ]
  },
  {
   "cell_type": "code",
   "execution_count": 2,
   "metadata": {
    "pycharm": {
     "is_executing": false
    }
   },
   "outputs": [],
   "source": [
    "# using the matplotlib inline mode, we can see the progress when updating our figure\n",
    "%matplotlib inline"
   ]
  },
  {
   "cell_type": "code",
   "execution_count": 3,
   "metadata": {
    "pycharm": {
     "is_executing": false
    }
   },
   "outputs": [],
   "source": [
    "import csv\n",
    "import pandas as pd\n",
    "import matplotlib.pyplot as plt"
   ]
  },
  {
   "cell_type": "code",
   "execution_count": 4,
   "metadata": {
    "pycharm": {
     "is_executing": false
    }
   },
   "outputs": [],
   "source": [
    "ridesharing_filepath = r\"O:/AIC data/Shared/amod-data/VGA Evaluation/experiments/icreased_trip_multiplication_time_shift/vga-weight0/ridesharing.csv\""
   ]
  },
  {
   "cell_type": "code",
   "execution_count": 5,
   "metadata": {
    "pycharm": {
     "is_executing": false
    }
   },
   "outputs": [],
   "source": [
    "with open(ridesharing_filepath, 'r', encoding=\"utf-8\")  as ridesharing:\n",
    "    r = pd.read_csv(ridesharing)"
   ]
  },
  {
   "cell_type": "code",
   "execution_count": 6,
   "metadata": {
    "pycharm": {
     "is_executing": false
    }
   },
   "outputs": [
    {
     "data": {
      "text/html": [
       "<div>\n",
       "<style scoped>\n",
       "    .dataframe tbody tr th:only-of-type {\n",
       "        vertical-align: middle;\n",
       "    }\n",
       "\n",
       "    .dataframe tbody tr th {\n",
       "        vertical-align: top;\n",
       "    }\n",
       "\n",
       "    .dataframe thead th {\n",
       "        text-align: right;\n",
       "    }\n",
       "</style>\n",
       "<table border=\"1\" class=\"dataframe\">\n",
       "  <thead>\n",
       "    <tr style=\"text-align: right;\">\n",
       "      <th></th>\n",
       "      <th>Batch</th>\n",
       "      <th>New Request Count</th>\n",
       "      <th>Active Request Count</th>\n",
       "      <th>Group Generation Time</th>\n",
       "      <th>Solver Time</th>\n",
       "      <th>Solver gap</th>\n",
       "      <th>1 Groups Count</th>\n",
       "      <th>1 Groups Total Time</th>\n",
       "      <th>2 Groups Count</th>\n",
       "      <th>2 Groups Total Time</th>\n",
       "      <th>...</th>\n",
       "      <th>7 Feasible Groups Count</th>\n",
       "      <th>7 Feasible Groups Total Time</th>\n",
       "      <th>8 Feasible Groups Count</th>\n",
       "      <th>8 Feasible Groups Total Time</th>\n",
       "      <th>9 Feasible Groups Count</th>\n",
       "      <th>9 Feasible Groups Total Time</th>\n",
       "      <th>10 Feasible Groups Count</th>\n",
       "      <th>10 Feasible Groups Total Time</th>\n",
       "      <th>11 Feasible Groups Count</th>\n",
       "      <th>11 Feasible Groups Total Time</th>\n",
       "    </tr>\n",
       "  </thead>\n",
       "  <tbody>\n",
       "    <tr>\n",
       "      <th>0</th>\n",
       "      <td>0</td>\n",
       "      <td>220</td>\n",
       "      <td>220</td>\n",
       "      <td>2015</td>\n",
       "      <td>41</td>\n",
       "      <td>0.000000</td>\n",
       "      <td>10560</td>\n",
       "      <td>12</td>\n",
       "      <td>2834</td>\n",
       "      <td>17</td>\n",
       "      <td>...</td>\n",
       "      <td>NaN</td>\n",
       "      <td>NaN</td>\n",
       "      <td>NaN</td>\n",
       "      <td>NaN</td>\n",
       "      <td>NaN</td>\n",
       "      <td>NaN</td>\n",
       "      <td>NaN</td>\n",
       "      <td>NaN</td>\n",
       "      <td>NaN</td>\n",
       "      <td>NaN</td>\n",
       "    </tr>\n",
       "    <tr>\n",
       "      <th>1</th>\n",
       "      <td>1</td>\n",
       "      <td>263</td>\n",
       "      <td>483</td>\n",
       "      <td>2021</td>\n",
       "      <td>300</td>\n",
       "      <td>0.000094</td>\n",
       "      <td>112957</td>\n",
       "      <td>21</td>\n",
       "      <td>75232</td>\n",
       "      <td>144</td>\n",
       "      <td>...</td>\n",
       "      <td>NaN</td>\n",
       "      <td>NaN</td>\n",
       "      <td>NaN</td>\n",
       "      <td>NaN</td>\n",
       "      <td>NaN</td>\n",
       "      <td>NaN</td>\n",
       "      <td>NaN</td>\n",
       "      <td>NaN</td>\n",
       "      <td>NaN</td>\n",
       "      <td>NaN</td>\n",
       "    </tr>\n",
       "    <tr>\n",
       "      <th>2</th>\n",
       "      <td>2</td>\n",
       "      <td>254</td>\n",
       "      <td>737</td>\n",
       "      <td>2032</td>\n",
       "      <td>1570</td>\n",
       "      <td>0.000098</td>\n",
       "      <td>276817</td>\n",
       "      <td>6</td>\n",
       "      <td>217434</td>\n",
       "      <td>292</td>\n",
       "      <td>...</td>\n",
       "      <td>NaN</td>\n",
       "      <td>NaN</td>\n",
       "      <td>NaN</td>\n",
       "      <td>NaN</td>\n",
       "      <td>NaN</td>\n",
       "      <td>NaN</td>\n",
       "      <td>NaN</td>\n",
       "      <td>NaN</td>\n",
       "      <td>NaN</td>\n",
       "      <td>NaN</td>\n",
       "    </tr>\n",
       "    <tr>\n",
       "      <th>3</th>\n",
       "      <td>3</td>\n",
       "      <td>216</td>\n",
       "      <td>953</td>\n",
       "      <td>2016</td>\n",
       "      <td>915</td>\n",
       "      <td>0.000098</td>\n",
       "      <td>438264</td>\n",
       "      <td>0</td>\n",
       "      <td>290044</td>\n",
       "      <td>213</td>\n",
       "      <td>...</td>\n",
       "      <td>NaN</td>\n",
       "      <td>NaN</td>\n",
       "      <td>NaN</td>\n",
       "      <td>NaN</td>\n",
       "      <td>NaN</td>\n",
       "      <td>NaN</td>\n",
       "      <td>NaN</td>\n",
       "      <td>NaN</td>\n",
       "      <td>NaN</td>\n",
       "      <td>NaN</td>\n",
       "    </tr>\n",
       "    <tr>\n",
       "      <th>4</th>\n",
       "      <td>4</td>\n",
       "      <td>247</td>\n",
       "      <td>1199</td>\n",
       "      <td>2054</td>\n",
       "      <td>1634</td>\n",
       "      <td>0.000000</td>\n",
       "      <td>593398</td>\n",
       "      <td>5</td>\n",
       "      <td>342869</td>\n",
       "      <td>42</td>\n",
       "      <td>...</td>\n",
       "      <td>NaN</td>\n",
       "      <td>NaN</td>\n",
       "      <td>NaN</td>\n",
       "      <td>NaN</td>\n",
       "      <td>NaN</td>\n",
       "      <td>NaN</td>\n",
       "      <td>NaN</td>\n",
       "      <td>NaN</td>\n",
       "      <td>NaN</td>\n",
       "      <td>NaN</td>\n",
       "    </tr>\n",
       "    <tr>\n",
       "      <th>...</th>\n",
       "      <td>...</td>\n",
       "      <td>...</td>\n",
       "      <td>...</td>\n",
       "      <td>...</td>\n",
       "      <td>...</td>\n",
       "      <td>...</td>\n",
       "      <td>...</td>\n",
       "      <td>...</td>\n",
       "      <td>...</td>\n",
       "      <td>...</td>\n",
       "      <td>...</td>\n",
       "      <td>...</td>\n",
       "      <td>...</td>\n",
       "      <td>...</td>\n",
       "      <td>...</td>\n",
       "      <td>...</td>\n",
       "      <td>...</td>\n",
       "      <td>...</td>\n",
       "      <td>...</td>\n",
       "      <td>...</td>\n",
       "      <td>...</td>\n",
       "    </tr>\n",
       "    <tr>\n",
       "      <th>174</th>\n",
       "      <td>174</td>\n",
       "      <td>577</td>\n",
       "      <td>15690</td>\n",
       "      <td>42570</td>\n",
       "      <td>14192</td>\n",
       "      <td>0.000098</td>\n",
       "      <td>15170664</td>\n",
       "      <td>232</td>\n",
       "      <td>30177928</td>\n",
       "      <td>753</td>\n",
       "      <td>...</td>\n",
       "      <td>NaN</td>\n",
       "      <td>NaN</td>\n",
       "      <td>NaN</td>\n",
       "      <td>NaN</td>\n",
       "      <td>NaN</td>\n",
       "      <td>NaN</td>\n",
       "      <td>NaN</td>\n",
       "      <td>NaN</td>\n",
       "      <td>NaN</td>\n",
       "      <td>NaN</td>\n",
       "    </tr>\n",
       "    <tr>\n",
       "      <th>175</th>\n",
       "      <td>175</td>\n",
       "      <td>526</td>\n",
       "      <td>15579</td>\n",
       "      <td>32399</td>\n",
       "      <td>8083</td>\n",
       "      <td>0.000099</td>\n",
       "      <td>14680121</td>\n",
       "      <td>419</td>\n",
       "      <td>25932494</td>\n",
       "      <td>904</td>\n",
       "      <td>...</td>\n",
       "      <td>NaN</td>\n",
       "      <td>NaN</td>\n",
       "      <td>NaN</td>\n",
       "      <td>NaN</td>\n",
       "      <td>NaN</td>\n",
       "      <td>NaN</td>\n",
       "      <td>NaN</td>\n",
       "      <td>NaN</td>\n",
       "      <td>NaN</td>\n",
       "      <td>NaN</td>\n",
       "    </tr>\n",
       "    <tr>\n",
       "      <th>176</th>\n",
       "      <td>176</td>\n",
       "      <td>589</td>\n",
       "      <td>15576</td>\n",
       "      <td>37315</td>\n",
       "      <td>22354</td>\n",
       "      <td>0.000099</td>\n",
       "      <td>14864291</td>\n",
       "      <td>45</td>\n",
       "      <td>27324049</td>\n",
       "      <td>1540</td>\n",
       "      <td>...</td>\n",
       "      <td>NaN</td>\n",
       "      <td>NaN</td>\n",
       "      <td>NaN</td>\n",
       "      <td>NaN</td>\n",
       "      <td>NaN</td>\n",
       "      <td>NaN</td>\n",
       "      <td>NaN</td>\n",
       "      <td>NaN</td>\n",
       "      <td>NaN</td>\n",
       "      <td>NaN</td>\n",
       "    </tr>\n",
       "    <tr>\n",
       "      <th>177</th>\n",
       "      <td>177</td>\n",
       "      <td>578</td>\n",
       "      <td>15514</td>\n",
       "      <td>49562</td>\n",
       "      <td>14062</td>\n",
       "      <td>0.000090</td>\n",
       "      <td>15121705</td>\n",
       "      <td>156</td>\n",
       "      <td>33206669</td>\n",
       "      <td>1731</td>\n",
       "      <td>...</td>\n",
       "      <td>NaN</td>\n",
       "      <td>NaN</td>\n",
       "      <td>NaN</td>\n",
       "      <td>NaN</td>\n",
       "      <td>NaN</td>\n",
       "      <td>NaN</td>\n",
       "      <td>NaN</td>\n",
       "      <td>NaN</td>\n",
       "      <td>NaN</td>\n",
       "      <td>NaN</td>\n",
       "    </tr>\n",
       "    <tr>\n",
       "      <th>178</th>\n",
       "      <td>178</td>\n",
       "      <td>549</td>\n",
       "      <td>15440</td>\n",
       "      <td>40589</td>\n",
       "      <td>9111</td>\n",
       "      <td>0.000082</td>\n",
       "      <td>14928655</td>\n",
       "      <td>392</td>\n",
       "      <td>31192366</td>\n",
       "      <td>1149</td>\n",
       "      <td>...</td>\n",
       "      <td>NaN</td>\n",
       "      <td>NaN</td>\n",
       "      <td>NaN</td>\n",
       "      <td>NaN</td>\n",
       "      <td>NaN</td>\n",
       "      <td>NaN</td>\n",
       "      <td>NaN</td>\n",
       "      <td>NaN</td>\n",
       "      <td>NaN</td>\n",
       "      <td>NaN</td>\n",
       "    </tr>\n",
       "  </tbody>\n",
       "</table>\n",
       "<p>179 rows × 50 columns</p>\n",
       "</div>"
      ],
      "text/plain": [
       "     Batch  New Request Count  Active Request Count  Group Generation Time  \\\n",
       "0        0                220                   220                   2015   \n",
       "1        1                263                   483                   2021   \n",
       "2        2                254                   737                   2032   \n",
       "3        3                216                   953                   2016   \n",
       "4        4                247                  1199                   2054   \n",
       "..     ...                ...                   ...                    ...   \n",
       "174    174                577                 15690                  42570   \n",
       "175    175                526                 15579                  32399   \n",
       "176    176                589                 15576                  37315   \n",
       "177    177                578                 15514                  49562   \n",
       "178    178                549                 15440                  40589   \n",
       "\n",
       "     Solver Time  Solver gap  1 Groups Count  1 Groups Total Time  \\\n",
       "0             41    0.000000           10560                   12   \n",
       "1            300    0.000094          112957                   21   \n",
       "2           1570    0.000098          276817                    6   \n",
       "3            915    0.000098          438264                    0   \n",
       "4           1634    0.000000          593398                    5   \n",
       "..           ...         ...             ...                  ...   \n",
       "174        14192    0.000098        15170664                  232   \n",
       "175         8083    0.000099        14680121                  419   \n",
       "176        22354    0.000099        14864291                   45   \n",
       "177        14062    0.000090        15121705                  156   \n",
       "178         9111    0.000082        14928655                  392   \n",
       "\n",
       "     2 Groups Count  2 Groups Total Time  ...  7 Feasible Groups Count  \\\n",
       "0              2834                   17  ...                      NaN   \n",
       "1             75232                  144  ...                      NaN   \n",
       "2            217434                  292  ...                      NaN   \n",
       "3            290044                  213  ...                      NaN   \n",
       "4            342869                   42  ...                      NaN   \n",
       "..              ...                  ...  ...                      ...   \n",
       "174        30177928                  753  ...                      NaN   \n",
       "175        25932494                  904  ...                      NaN   \n",
       "176        27324049                 1540  ...                      NaN   \n",
       "177        33206669                 1731  ...                      NaN   \n",
       "178        31192366                 1149  ...                      NaN   \n",
       "\n",
       "     7 Feasible Groups Total Time  8 Feasible Groups Count  \\\n",
       "0                             NaN                      NaN   \n",
       "1                             NaN                      NaN   \n",
       "2                             NaN                      NaN   \n",
       "3                             NaN                      NaN   \n",
       "4                             NaN                      NaN   \n",
       "..                            ...                      ...   \n",
       "174                           NaN                      NaN   \n",
       "175                           NaN                      NaN   \n",
       "176                           NaN                      NaN   \n",
       "177                           NaN                      NaN   \n",
       "178                           NaN                      NaN   \n",
       "\n",
       "     8 Feasible Groups Total Time  9 Feasible Groups Count  \\\n",
       "0                             NaN                      NaN   \n",
       "1                             NaN                      NaN   \n",
       "2                             NaN                      NaN   \n",
       "3                             NaN                      NaN   \n",
       "4                             NaN                      NaN   \n",
       "..                            ...                      ...   \n",
       "174                           NaN                      NaN   \n",
       "175                           NaN                      NaN   \n",
       "176                           NaN                      NaN   \n",
       "177                           NaN                      NaN   \n",
       "178                           NaN                      NaN   \n",
       "\n",
       "     9 Feasible Groups Total Time  10 Feasible Groups Count  \\\n",
       "0                             NaN                       NaN   \n",
       "1                             NaN                       NaN   \n",
       "2                             NaN                       NaN   \n",
       "3                             NaN                       NaN   \n",
       "4                             NaN                       NaN   \n",
       "..                            ...                       ...   \n",
       "174                           NaN                       NaN   \n",
       "175                           NaN                       NaN   \n",
       "176                           NaN                       NaN   \n",
       "177                           NaN                       NaN   \n",
       "178                           NaN                       NaN   \n",
       "\n",
       "     10 Feasible Groups Total Time  11 Feasible Groups Count  \\\n",
       "0                              NaN                       NaN   \n",
       "1                              NaN                       NaN   \n",
       "2                              NaN                       NaN   \n",
       "3                              NaN                       NaN   \n",
       "4                              NaN                       NaN   \n",
       "..                             ...                       ...   \n",
       "174                            NaN                       NaN   \n",
       "175                            NaN                       NaN   \n",
       "176                            NaN                       NaN   \n",
       "177                            NaN                       NaN   \n",
       "178                            NaN                       NaN   \n",
       "\n",
       "     11 Feasible Groups Total Time  \n",
       "0                              NaN  \n",
       "1                              NaN  \n",
       "2                              NaN  \n",
       "3                              NaN  \n",
       "4                              NaN  \n",
       "..                             ...  \n",
       "174                            NaN  \n",
       "175                            NaN  \n",
       "176                            NaN  \n",
       "177                            NaN  \n",
       "178                            NaN  \n",
       "\n",
       "[179 rows x 50 columns]"
      ]
     },
     "execution_count": 6,
     "metadata": {},
     "output_type": "execute_result"
    }
   ],
   "source": [
    "r"
   ]
  },
  {
   "cell_type": "code",
   "execution_count": null,
   "metadata": {
    "pycharm": {
     "is_executing": false
    }
   },
   "outputs": [],
   "source": [
    "def get_max_group_size_row(row_index: int) -> int:\n",
    "    for size in range(1,11):\n",
    "        if r.loc[row_index][\"{} Groups Count\".format(size)] > 0:\n",
    "            continue\n",
    "        else:\n",
    "            return size - 1\n",
    "t = get_max_group_size_row(178)"
   ]
  },
  {
   "cell_type": "code",
   "execution_count": null,
   "metadata": {
    "pycharm": {
     "is_executing": false
    }
   },
   "outputs": [],
   "source": [
    "type(t)"
   ]
  },
  {
   "cell_type": "code",
   "execution_count": 20,
   "metadata": {
    "pycharm": {
     "is_executing": false
    }
   },
   "outputs": [
    {
     "data": {
      "text/plain": [
       "Batch                            3.300000e+01\n",
       "New Request Count                7.790000e+02\n",
       "Active Request Count             1.415000e+04\n",
       "Group Generation Time            1.049682e+07\n",
       "Solver Time                      2.103900e+04\n",
       "Solver gap                       8.681911e-05\n",
       "1 Groups Count                   1.757568e+07\n",
       "1 Groups Total Time              2.710000e+02\n",
       "2 Groups Count                   3.823240e+07\n",
       "2 Groups Total Time              1.033000e+03\n",
       "3 Groups Count                   2.312525e+06\n",
       "3 Groups Total Time              3.000000e+02\n",
       "4 Groups Count                   4.956940e+05\n",
       "4 Groups Total Time              3.790000e+02\n",
       "5 Groups Count                   1.624040e+05\n",
       "5 Groups Total Time              1.035100e+05\n",
       "6 Groups Count                   7.416200e+04\n",
       "6 Groups Total Time              1.176449e+06\n",
       "7 Groups Count                   2.739600e+04\n",
       "7 Groups Total Time              5.846324e+06\n",
       "8 Groups Count                   6.575000e+03\n",
       "8 Groups Total Time              1.304892e+07\n",
       "9 Groups Count                   9.090000e+02\n",
       "9 Groups Total Time              1.051448e+07\n",
       "10 Groups Count                  5.500000e+01\n",
       "10 Groups Total Time             4.798500e+06\n",
       "11 Groups Count                  1.000000e+00\n",
       "11 Groups Total Time             4.184400e+04\n",
       "1 Feasible Groups Count          5.085560e+05\n",
       "1 Feasible Groups Total Time     2.700000e+01\n",
       "2 Feasible Groups Count          1.138453e+06\n",
       "2 Feasible Groups Total Time     6.000000e+00\n",
       "3 Feasible Groups Count          7.772200e+05\n",
       "3 Feasible Groups Total Time     3.800000e+01\n",
       "4 Feasible Groups Count          3.116400e+05\n",
       "4 Feasible Groups Total Time     3.660000e+02\n",
       "5 Feasible Groups Count          1.421510e+05\n",
       "5 Feasible Groups Total Time     1.026140e+05\n",
       "6 Feasible Groups Count          7.236800e+04\n",
       "6 Feasible Groups Total Time     1.170626e+06\n",
       "7 Feasible Groups Count          2.718400e+04\n",
       "7 Feasible Groups Total Time     5.834426e+06\n",
       "8 Feasible Groups Count          6.555000e+03\n",
       "8 Feasible Groups Total Time     1.303407e+07\n",
       "9 Feasible Groups Count          9.090000e+02\n",
       "9 Feasible Groups Total Time     1.051448e+07\n",
       "10 Feasible Groups Count         5.500000e+01\n",
       "10 Feasible Groups Total Time    4.798500e+06\n",
       "11 Feasible Groups Count         1.000000e+00\n",
       "11 Feasible Groups Total Time    4.184400e+04\n",
       "Name: 33, dtype: float64"
      ]
     },
     "execution_count": 20,
     "metadata": {},
     "output_type": "execute_result"
    }
   ],
   "source": [
    "r.loc[33]"
   ]
  },
  {
   "cell_type": "code",
   "execution_count": null,
   "metadata": {
    "pycharm": {
     "is_executing": false
    }
   },
   "outputs": [],
   "source": [
    "fig, axes = plt.subplots(2,1, figsize=(4,6))\n",
    "ax1 = axes[0]\n",
    "ax2 = axes[1]\n",
    "ax1.plot(r[\"Active Request Count\"])"
   ]
  },
  {
   "cell_type": "code",
   "execution_count": null,
   "metadata": {
    "pycharm": {
     "is_executing": false
    },
    "scrolled": false
   },
   "outputs": [],
   "source": [
    "ax2.plot(r[\"Group Generation Time\"] / 1000)\n",
    "ax2.plot(r[\"Solver Time\"] / 1000)\n",
    "ax2.set_ylim(0, 300)\n",
    "ax2.set_xlim(0, 180)\n",
    "ax2.set_xlabel(\"simulation time [min]\")\n",
    "ax2.set_ylabel(\"computational time [s]\")\n",
    "fig"
   ]
  },
  {
   "cell_type": "code",
   "execution_count": null,
   "metadata": {
    "pycharm": {
     "is_executing": false
    }
   },
   "outputs": [],
   "source": [
    "rt = r[20:45]"
   ]
  },
  {
   "cell_type": "code",
   "execution_count": null,
   "metadata": {
    "pycharm": {
     "is_executing": false
    }
   },
   "outputs": [],
   "source": [
    "rt"
   ]
  },
  {
   "cell_type": "code",
   "execution_count": null,
   "metadata": {
    "pycharm": {
     "is_executing": false
    }
   },
   "outputs": [],
   "source": []
  }
 ],
 "metadata": {
  "kernelspec": {
   "display_name": "Python 3",
   "language": "python",
   "name": "python3"
  },
  "language_info": {
   "codemirror_mode": {
    "name": "ipython",
    "version": 3
   },
   "file_extension": ".py",
   "mimetype": "text/x-python",
   "name": "python",
   "nbconvert_exporter": "python",
   "pygments_lexer": "ipython3",
   "version": "3.8.2"
  }
 },
 "nbformat": 4,
 "nbformat_minor": 2
}
