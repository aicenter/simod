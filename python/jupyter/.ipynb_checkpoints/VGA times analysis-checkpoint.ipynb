{
 "cells": [
  {
   "cell_type": "code",
   "execution_count": 1,
   "metadata": {
    "pycharm": {
     "is_executing": false
    }
   },
   "outputs": [
    {
     "data": {
      "application/javascript": [
       "// render cell content fully instead of using scroll bar\n",
       "IPython.OutputArea.prototype._should_scroll = function(lines) {\n",
       "    return false;\n",
       "}\n"
      ],
      "text/plain": [
       "<IPython.core.display.Javascript object>"
      ]
     },
     "metadata": {},
     "output_type": "display_data"
    }
   ],
   "source": [
    "%%javascript\n",
    "// render cell content fully instead of using scroll bar\n",
    "IPython.OutputArea.prototype._should_scroll = function(lines) {\n",
    "    return false;\n",
    "}"
   ]
  },
  {
   "cell_type": "code",
   "execution_count": 2,
   "metadata": {
    "pycharm": {
     "is_executing": false
    }
   },
   "outputs": [],
   "source": [
    "# using the matplotlib inline mode, we can see the progress when updating our figure\n",
    "%matplotlib inline"
   ]
  },
  {
   "cell_type": "code",
   "execution_count": 4,
   "metadata": {
    "pycharm": {
     "is_executing": false
    }
   },
   "outputs": [],
   "source": [
    "import csv\n",
    "import pandas as pd\n",
    "import matplotlib.pyplot as plt"
   ]
  },
  {
   "cell_type": "code",
   "execution_count": 25,
   "metadata": {
    "pycharm": {
     "is_executing": false
    }
   },
   "outputs": [],
   "source": [
    "ridesharing_filepath = r\"C:/AIC Experiment Data/VGA/experiments/vga_gap_0002/ridesharing.csv\"\n",
    "ridesharing_filepath_lim = r\"C:/AIC Experiment Data/VGA/experiments/vga-lim_gap_005_gg_60ms/ridesharing.csv\"\n",
    "\n",
    "max_possible_group_size = 15"
   ]
  },
  {
   "cell_type": "code",
   "execution_count": 6,
   "metadata": {
    "pycharm": {
     "is_executing": false
    }
   },
   "outputs": [],
   "source": [
    "with open(ridesharing_filepath, 'r', encoding=\"utf-8\") as ridesharing:\n",
    "    r = pd.read_csv(ridesharing)\n",
    "\n",
    "with open(ridesharing_filepath_lim, 'r', encoding=\"utf-8\") as ridesharing:\n",
    "    r_lim = pd.read_csv(ridesharing)"
   ]
  },
  {
   "cell_type": "code",
   "execution_count": 26,
   "metadata": {
    "pycharm": {
     "is_executing": false
    }
   },
   "outputs": [],
   "source": [
    "def get_max_group_size_row(row: pd.Series) -> int:\n",
    "    for size in range(1, max_possible_group_size):\n",
    "        column_name = \"{} Groups Count\".format(size)\n",
    "        if column_name in row and row[column_name] > 0:\n",
    "            continue\n",
    "        else:\n",
    "            return size - 1"
   ]
  },
  {
   "cell_type": "code",
   "execution_count": 30,
   "metadata": {},
   "outputs": [],
   "source": [
    "def get_group_times_per_row(row: pd.Series) -> pd.Series:\n",
    "    times = []\n",
    "    for size in range(1, max_possible_group_size):\n",
    "        column_name = \"{} Groups Count\".format(size)\n",
    "        if column_name in row:\n",
    "            times.append(row[column_name])\n",
    "        else:\n",
    "            break\n",
    "    return pd.Series(times)"
   ]
  },
  {
   "cell_type": "code",
   "execution_count": null,
   "metadata": {},
   "outputs": [],
   "source": [
    "def get_group_counts_per_row(row: pd.Series, max_group_size: int = 11) -> pd.Series:\n",
    "    counts = []\n",
    "    for size in range(1, max_possible_group_size):\n",
    "        column_name = \"{} Groups Count\".format(size)\n",
    "        if column_name in row:\n",
    "            times.append(row[column_name])\n",
    "        else:\n",
    "            break\n",
    "    return pd.Series(times)"
   ]
  },
  {
   "cell_type": "code",
   "execution_count": 27,
   "metadata": {},
   "outputs": [
    {
     "data": {
      "text/plain": [
       "3"
      ]
     },
     "execution_count": 27,
     "metadata": {},
     "output_type": "execute_result"
    }
   ],
   "source": [
    "get_max_group_size_row(r.iloc[0])"
   ]
  },
  {
   "cell_type": "code",
   "execution_count": 28,
   "metadata": {
    "pycharm": {
     "is_executing": false
    }
   },
   "outputs": [],
   "source": [
    "max_group_sizes = r.apply(get_max_group_size_row, axis=1)\n",
    "max_group_sizes_lim = r_lim.apply(get_max_group_size_row, axis=1)"
   ]
  },
  {
   "cell_type": "code",
   "execution_count": 29,
   "metadata": {},
   "outputs": [
    {
     "ename": "NameError",
     "evalue": "name 'get_group_times_per_row' is not defined",
     "output_type": "error",
     "traceback": [
      "\u001b[1;31m---------------------------------------------------------------------------\u001b[0m",
      "\u001b[1;31mNameError\u001b[0m                                 Traceback (most recent call last)",
      "\u001b[1;32m<ipython-input-29-d425609c41af>\u001b[0m in \u001b[0;36m<module>\u001b[1;34m\u001b[0m\n\u001b[0;32m      2\u001b[0m \u001b[0mgroup_counts\u001b[0m \u001b[1;33m=\u001b[0m \u001b[1;33m[\u001b[0m\u001b[1;33m]\u001b[0m\u001b[1;33m\u001b[0m\u001b[1;33m\u001b[0m\u001b[0m\n\u001b[0;32m      3\u001b[0m \u001b[1;32mfor\u001b[0m \u001b[0m_\u001b[0m\u001b[1;33m,\u001b[0m \u001b[0mrow\u001b[0m \u001b[1;32min\u001b[0m \u001b[0mr\u001b[0m\u001b[1;33m.\u001b[0m\u001b[0miterrows\u001b[0m\u001b[1;33m(\u001b[0m\u001b[1;33m)\u001b[0m\u001b[1;33m:\u001b[0m\u001b[1;33m\u001b[0m\u001b[1;33m\u001b[0m\u001b[0m\n\u001b[1;32m----> 4\u001b[1;33m     \u001b[0mgroup_times\u001b[0m\u001b[1;33m.\u001b[0m\u001b[0mappend\u001b[0m\u001b[1;33m(\u001b[0m\u001b[0mget_group_times_per_row\u001b[0m\u001b[1;33m(\u001b[0m\u001b[0mrow\u001b[0m\u001b[1;33m)\u001b[0m\u001b[1;33m)\u001b[0m\u001b[1;33m\u001b[0m\u001b[1;33m\u001b[0m\u001b[0m\n\u001b[0m\u001b[0;32m      5\u001b[0m     \u001b[0mgroup_counts\u001b[0m\u001b[1;33m.\u001b[0m\u001b[0mappend\u001b[0m\u001b[1;33m(\u001b[0m\u001b[0mget_group_counts_per_row\u001b[0m\u001b[1;33m(\u001b[0m\u001b[0mrow\u001b[0m\u001b[1;33m)\u001b[0m\u001b[1;33m)\u001b[0m\u001b[1;33m\u001b[0m\u001b[1;33m\u001b[0m\u001b[0m\n\u001b[0;32m      6\u001b[0m \u001b[1;33m\u001b[0m\u001b[0m\n",
      "\u001b[1;31mNameError\u001b[0m: name 'get_group_times_per_row' is not defined"
     ]
    }
   ],
   "source": [
    "group_times = []\n",
    "group_counts = []\n",
    "for _, row in r.iterrows():\n",
    "    group_times.append(get_group_times_per_row(row))\n",
    "    group_counts.append(get_group_counts_per_row(row))\n",
    "\n",
    "group_times_df = pd.DataFrame(group_times)\n",
    "group_counts_df = pd.DataFrame(group_counts)\n",
    "\n",
    "group_times_sum = group_times_df.sum()\n",
    "group_counts_sum = group_counts_df.sum()"
   ]
  },
  {
   "cell_type": "code",
   "execution_count": 10,
   "metadata": {
    "pycharm": {
     "is_executing": false
    }
   },
   "outputs": [
    {
     "data": {
      "text/plain": [
       "7"
      ]
     },
     "execution_count": 10,
     "metadata": {},
     "output_type": "execute_result"
    }
   ],
   "source": [
    "t"
   ]
  },
  {
   "cell_type": "code",
   "execution_count": 20,
   "metadata": {
    "pycharm": {
     "is_executing": false
    }
   },
   "outputs": [
    {
     "data": {
      "text/plain": [
       "Batch                            3.300000e+01\n",
       "New Request Count                7.790000e+02\n",
       "Active Request Count             1.415000e+04\n",
       "Group Generation Time            1.049682e+07\n",
       "Solver Time                      2.103900e+04\n",
       "Solver gap                       8.681911e-05\n",
       "1 Groups Count                   1.757568e+07\n",
       "1 Groups Total Time              2.710000e+02\n",
       "2 Groups Count                   3.823240e+07\n",
       "2 Groups Total Time              1.033000e+03\n",
       "3 Groups Count                   2.312525e+06\n",
       "3 Groups Total Time              3.000000e+02\n",
       "4 Groups Count                   4.956940e+05\n",
       "4 Groups Total Time              3.790000e+02\n",
       "5 Groups Count                   1.624040e+05\n",
       "5 Groups Total Time              1.035100e+05\n",
       "6 Groups Count                   7.416200e+04\n",
       "6 Groups Total Time              1.176449e+06\n",
       "7 Groups Count                   2.739600e+04\n",
       "7 Groups Total Time              5.846324e+06\n",
       "8 Groups Count                   6.575000e+03\n",
       "8 Groups Total Time              1.304892e+07\n",
       "9 Groups Count                   9.090000e+02\n",
       "9 Groups Total Time              1.051448e+07\n",
       "10 Groups Count                  5.500000e+01\n",
       "10 Groups Total Time             4.798500e+06\n",
       "11 Groups Count                  1.000000e+00\n",
       "11 Groups Total Time             4.184400e+04\n",
       "1 Feasible Groups Count          5.085560e+05\n",
       "1 Feasible Groups Total Time     2.700000e+01\n",
       "2 Feasible Groups Count          1.138453e+06\n",
       "2 Feasible Groups Total Time     6.000000e+00\n",
       "3 Feasible Groups Count          7.772200e+05\n",
       "3 Feasible Groups Total Time     3.800000e+01\n",
       "4 Feasible Groups Count          3.116400e+05\n",
       "4 Feasible Groups Total Time     3.660000e+02\n",
       "5 Feasible Groups Count          1.421510e+05\n",
       "5 Feasible Groups Total Time     1.026140e+05\n",
       "6 Feasible Groups Count          7.236800e+04\n",
       "6 Feasible Groups Total Time     1.170626e+06\n",
       "7 Feasible Groups Count          2.718400e+04\n",
       "7 Feasible Groups Total Time     5.834426e+06\n",
       "8 Feasible Groups Count          6.555000e+03\n",
       "8 Feasible Groups Total Time     1.303407e+07\n",
       "9 Feasible Groups Count          9.090000e+02\n",
       "9 Feasible Groups Total Time     1.051448e+07\n",
       "10 Feasible Groups Count         5.500000e+01\n",
       "10 Feasible Groups Total Time    4.798500e+06\n",
       "11 Feasible Groups Count         1.000000e+00\n",
       "11 Feasible Groups Total Time    4.184400e+04\n",
       "Name: 33, dtype: float64"
      ]
     },
     "execution_count": 20,
     "metadata": {},
     "output_type": "execute_result"
    }
   ],
   "source": [
    "r.loc[33]"
   ]
  },
  {
   "cell_type": "code",
   "execution_count": null,
   "metadata": {
    "pycharm": {
     "is_executing": false
    }
   },
   "outputs": [],
   "source": [
    "fig, axes = plt.subplots(2,1, figsize=(4,6))\n",
    "ax1 = axes[0]\n",
    "ax2 = axes[1]\n",
    "ax1.plot(r[\"Active Request Count\"])"
   ]
  },
  {
   "cell_type": "code",
   "execution_count": null,
   "metadata": {
    "pycharm": {
     "is_executing": false
    },
    "scrolled": false
   },
   "outputs": [],
   "source": [
    "ax2.plot(r[\"Group Generation Time\"] / 1000)\n",
    "ax2.plot(r[\"Solver Time\"] / 1000)\n",
    "ax2.set_ylim(0, 300)\n",
    "ax2.set_xlim(0, 180)\n",
    "ax2.set_xlabel(\"simulation time [min]\")\n",
    "ax2.set_ylabel(\"computational time [s]\")\n",
    "fig"
   ]
  },
  {
   "cell_type": "code",
   "execution_count": null,
   "metadata": {
    "pycharm": {
     "is_executing": false
    }
   },
   "outputs": [],
   "source": [
    "rt = r[20:45]"
   ]
  },
  {
   "cell_type": "code",
   "execution_count": null,
   "metadata": {
    "pycharm": {
     "is_executing": false
    }
   },
   "outputs": [],
   "source": [
    "rt"
   ]
  },
  {
   "cell_type": "code",
   "execution_count": null,
   "metadata": {
    "pycharm": {
     "is_executing": false
    }
   },
   "outputs": [],
   "source": []
  }
 ],
 "metadata": {
  "kernelspec": {
   "display_name": "Python 3",
   "language": "python",
   "name": "python3"
  },
  "language_info": {
   "codemirror_mode": {
    "name": "ipython",
    "version": 3
   },
   "file_extension": ".py",
   "mimetype": "text/x-python",
   "name": "python",
   "nbconvert_exporter": "python",
   "pygments_lexer": "ipython3",
   "version": "3.9.0"
  }
 },
 "nbformat": 4,
 "nbformat_minor": 2
}
