{
 "cells": [
  {
   "cell_type": "code",
   "id": "initial_id",
   "metadata": {
    "collapsed": true,
    "ExecuteTime": {
     "end_time": "2024-05-09T12:19:26.089366Z",
     "start_time": "2024-05-09T12:19:26.073389Z"
    }
   },
   "source": [
    "import pandas as pd\n",
    "from pathlib import Path\n",
    "from datetime import datetime"
   ],
   "outputs": [],
   "execution_count": 11
  },
  {
   "metadata": {
    "ExecuteTime": {
     "end_time": "2024-05-09T12:03:32.363702Z",
     "start_time": "2024-05-09T12:03:32.353735Z"
    }
   },
   "cell_type": "code",
   "source": "root = Path(r\"C:\\Google Drive\\AIC Experiment Data\\SiMoD demo data\")",
   "id": "b193cc6c3323a963",
   "outputs": [],
   "execution_count": 3
  },
  {
   "metadata": {},
   "cell_type": "markdown",
   "source": "# Requests",
   "id": "dce69ef71bd74d83"
  },
  {
   "metadata": {
    "ExecuteTime": {
     "end_time": "2024-05-09T12:08:54.542546Z",
     "start_time": "2024-05-09T12:08:54.504576Z"
    }
   },
   "cell_type": "code",
   "source": [
    "old_requests = pd.read_csv(\n",
    "    root / \"trips.txt\", \n",
    "    sep=\" \",\n",
    "    names=[\"Announcement_Time\", \"Latitude_From\", \"Longitude_From\", \"Latitude_To\", \"Longitude_To\", \"unknown\"],\n",
    "    index_col=False\n",
    ")\n",
    "old_requests[0:5]"
   ],
   "id": "5b416b5d3ee2effc",
   "outputs": [
    {
     "data": {
      "text/plain": [
       "   Announcement_Time  Latitude_From  Longitude_From  Latitude_To  \\\n",
       "0           81850000      40.783443      -73.981918    40.798199   \n",
       "1           81852000      40.766209      -73.982948    40.764053   \n",
       "2           81852000      40.764019      -73.982498    40.757778   \n",
       "3           81852000      40.759346      -73.972160    40.740147   \n",
       "4           81853000      40.793289      -73.972679    40.797062   \n",
       "\n",
       "   Longitude_To  unknown  \n",
       "0    -73.952354        1  \n",
       "1    -73.984390        1  \n",
       "2    -73.974648        1  \n",
       "3    -73.986076        1  \n",
       "4    -73.971283        1  "
      ],
      "text/html": [
       "<div>\n",
       "<style scoped>\n",
       "    .dataframe tbody tr th:only-of-type {\n",
       "        vertical-align: middle;\n",
       "    }\n",
       "\n",
       "    .dataframe tbody tr th {\n",
       "        vertical-align: top;\n",
       "    }\n",
       "\n",
       "    .dataframe thead th {\n",
       "        text-align: right;\n",
       "    }\n",
       "</style>\n",
       "<table border=\"1\" class=\"dataframe\">\n",
       "  <thead>\n",
       "    <tr style=\"text-align: right;\">\n",
       "      <th></th>\n",
       "      <th>Announcement_Time</th>\n",
       "      <th>Latitude_From</th>\n",
       "      <th>Longitude_From</th>\n",
       "      <th>Latitude_To</th>\n",
       "      <th>Longitude_To</th>\n",
       "      <th>unknown</th>\n",
       "    </tr>\n",
       "  </thead>\n",
       "  <tbody>\n",
       "    <tr>\n",
       "      <th>0</th>\n",
       "      <td>81850000</td>\n",
       "      <td>40.783443</td>\n",
       "      <td>-73.981918</td>\n",
       "      <td>40.798199</td>\n",
       "      <td>-73.952354</td>\n",
       "      <td>1</td>\n",
       "    </tr>\n",
       "    <tr>\n",
       "      <th>1</th>\n",
       "      <td>81852000</td>\n",
       "      <td>40.766209</td>\n",
       "      <td>-73.982948</td>\n",
       "      <td>40.764053</td>\n",
       "      <td>-73.984390</td>\n",
       "      <td>1</td>\n",
       "    </tr>\n",
       "    <tr>\n",
       "      <th>2</th>\n",
       "      <td>81852000</td>\n",
       "      <td>40.764019</td>\n",
       "      <td>-73.982498</td>\n",
       "      <td>40.757778</td>\n",
       "      <td>-73.974648</td>\n",
       "      <td>1</td>\n",
       "    </tr>\n",
       "    <tr>\n",
       "      <th>3</th>\n",
       "      <td>81852000</td>\n",
       "      <td>40.759346</td>\n",
       "      <td>-73.972160</td>\n",
       "      <td>40.740147</td>\n",
       "      <td>-73.986076</td>\n",
       "      <td>1</td>\n",
       "    </tr>\n",
       "    <tr>\n",
       "      <th>4</th>\n",
       "      <td>81853000</td>\n",
       "      <td>40.793289</td>\n",
       "      <td>-73.972679</td>\n",
       "      <td>40.797062</td>\n",
       "      <td>-73.971283</td>\n",
       "      <td>1</td>\n",
       "    </tr>\n",
       "  </tbody>\n",
       "</table>\n",
       "</div>"
      ]
     },
     "execution_count": 8,
     "metadata": {},
     "output_type": "execute_result"
    }
   ],
   "execution_count": 8
  },
  {
   "metadata": {
    "ExecuteTime": {
     "end_time": "2024-05-09T12:20:20.459752Z",
     "start_time": "2024-05-09T12:20:20.315784Z"
    }
   },
   "cell_type": "code",
   "source": [
    "new_requests = pd.DataFrame(old_requests[[\"Announcement_Time\", \"Latitude_From\", \"Longitude_From\", \"Latitude_To\", \"Longitude_To\"]])\n",
    "\n",
    "# time processing\n",
    "new_requests[\"Announcement_Time\"] = datetime.strptime(\"2024-05-16 00:00:00\", \"%Y-%m-%d %H:%M:%S\") + pd.to_timedelta(new_requests[\"Announcement_Time\"], unit=\"ms\")    \n",
    "\n",
    "new_requests.to_csv(root / \"trips.csv\", index_label=\"id\")"
   ],
   "id": "e35a0681494db55e",
   "outputs": [],
   "execution_count": 14
  }
 ],
 "metadata": {
  "kernelspec": {
   "display_name": "Python 3",
   "language": "python",
   "name": "python3"
  },
  "language_info": {
   "codemirror_mode": {
    "name": "ipython",
    "version": 2
   },
   "file_extension": ".py",
   "mimetype": "text/x-python",
   "name": "python",
   "nbconvert_exporter": "python",
   "pygments_lexer": "ipython2",
   "version": "2.7.6"
  }
 },
 "nbformat": 4,
 "nbformat_minor": 5
}
