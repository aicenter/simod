{
 "cells": [
  {
   "cell_type": "code",
   "execution_count": 1,
   "metadata": {},
   "outputs": [
    {
     "name": "stderr",
     "output_type": "stream",
     "text": [
      "INFO:root:Loading config for project RoadmaptoolsConfig (can be overwritten later)\n",
      "INFO:root:map_dir: FILL YOUR MAP DIR HERE\n",
      "osm_source_url: https://s3.amazonaws.com/metro-extracts.mapzen.com/valencia_spain.osm.bz2\n",
      "osm_map_filename: FILL YOUR MAP DIR HEREmap.osm\n",
      "filtered_osm_filename: FILL YOUR MAP DIR HEREmap-filtered.osm\n",
      "geojson_file: FILL YOUR MAP DIR HEREmap.geojson\n",
      "cleaned_geojson_file: FILL YOUR MAP DIR HEREmap-cleaned.geojson\n",
      "sanitized_geojson_file: FILL YOUR MAP DIR HEREmap-sanitized.geojson\n",
      "simplified_file: FILL YOUR MAP DIR HEREmap-simplified.geojson\n",
      "simplified_file_with_speed: FILL YOUR MAP DIR HEREmap-simplified-speed.geojson\n",
      "simplified_file_with_speed_and_curvature: FILL YOUR MAP DIR HEREmap-simplified-speed-curvature.geojson\n",
      "ap_nodes_file: FILL YOUR MAP DIR HEREnodes.geojson\n",
      "ap_edges_file: FILL YOUR MAP DIR HEREedges.geojson\n",
      "utm_center_lon: 50.0877506\n",
      "utm_center_lat: 14.4209293\n",
      "shift_utm_coordinate_origin_to_utm_center: False\n",
      "shapely_error_tolerance: 0.005\n",
      "osm_filter_params: --keep=\"highway=motorway =motorway_link =trunk =trunk_link =primary =primary_link =secondary =secondary_link =tertiary =tertiary_link =unclassified =unclassified_link =residential =residential_link =living_street\" --drop=\"access=no\"\n",
      "south: 49.94\n",
      "east: 14.22\n",
      "north: 50.17\n",
      "west: 14.71\n",
      "\n"
     ]
    }
   ],
   "source": [
    "import csv\n",
    "import os\n",
    "from tqdm import tqdm\n",
    "\n",
    "import roadmaptools.inout"
   ]
  },
  {
   "cell_type": "code",
   "execution_count": 2,
   "metadata": {},
   "outputs": [
    {
     "name": "stdout",
     "output_type": "stream",
     "text": [
      "[13:06:04]: Loading geojson file from: C:\\AIC Experiment Data\\VGA Manhattan\\maps\\edges-wrong_node_ids.geojson\n"
     ]
    }
   ],
   "source": [
    "edata = roadmaptools.inout.load_geojson(r\"C:\\AIC Experiment Data\\VGA Manhattan\\maps/edges-wrong_node_ids.geojson\")\n",
    "edges = edata[\"features\"]"
   ]
  },
  {
   "cell_type": "code",
   "execution_count": 5,
   "metadata": {},
   "outputs": [],
   "source": [
    "posted_speed_sum = 0\n",
    "for edge in edges:\n",
    "    posted_speed_sum += int(edge[\"properties\"][\"maxspeed\"])\n",
    "avg_posted_speed = posted_speed_sum / len(edges)"
   ]
  },
  {
   "cell_type": "code",
   "execution_count": 11,
   "metadata": {},
   "outputs": [
    {
     "name": "stderr",
     "output_type": "stream",
     "text": [
      "112429it [00:00, 240226.21it/s]\n"
     ]
    }
   ],
   "source": [
    "real_speed_sum = 0\n",
    "count = 0\n",
    "with open(r\"O:\\AIC data\\data\\speeds/new_york-2018-Q2-19h.csv\", 'r') as infile:\n",
    "    reader = csv.reader(infile)\n",
    "    \n",
    "    header = next(reader)\n",
    "    \n",
    "    for row in tqdm(reader):\n",
    "        real_speed_sum += float(row[11])\n",
    "        count += 1\n",
    "        \n",
    "avg_real_speed = real_speed_sum / count"
   ]
  },
  {
   "cell_type": "code",
   "execution_count": 12,
   "metadata": {},
   "outputs": [
    {
     "data": {
      "text/plain": [
       "18.66147654075017"
      ]
     },
     "execution_count": 12,
     "metadata": {},
     "output_type": "execute_result"
    }
   ],
   "source": [
    "avg_real_speed"
   ]
  },
  {
   "cell_type": "code",
   "execution_count": 13,
   "metadata": {},
   "outputs": [
    {
     "data": {
      "text/plain": [
       "18.66147654075017"
      ]
     },
     "execution_count": 13,
     "metadata": {},
     "output_type": "execute_result"
    }
   ],
   "source": [
    "avg_real_speed"
   ]
  },
  {
   "cell_type": "code",
   "execution_count": 14,
   "metadata": {},
   "outputs": [
    {
     "data": {
      "text/plain": [
       "34.68234323432343"
      ]
     },
     "execution_count": 14,
     "metadata": {},
     "output_type": "execute_result"
    }
   ],
   "source": [
    "avg_posted_speed"
   ]
  },
  {
   "cell_type": "code",
   "execution_count": 17,
   "metadata": {},
   "outputs": [],
   "source": [
    "ratio = avg_posted_speed / avg_real_speed"
   ]
  },
  {
   "cell_type": "code",
   "execution_count": 18,
   "metadata": {},
   "outputs": [
    {
     "data": {
      "text/plain": [
       "1.8584994150162377"
      ]
     },
     "execution_count": 18,
     "metadata": {},
     "output_type": "execute_result"
    }
   ],
   "source": [
    "ratio"
   ]
  },
  {
   "cell_type": "code",
   "execution_count": 20,
   "metadata": {},
   "outputs": [],
   "source": [
    "for edge in edges:\n",
    "    edge[\"properties\"][\"maxspeed\"] = int(round(int(edge[\"properties\"][\"maxspeed\"]) / ratio))"
   ]
  },
  {
   "cell_type": "code",
   "execution_count": 21,
   "metadata": {},
   "outputs": [
    {
     "name": "stdout",
     "output_type": "stream",
     "text": [
      "[16:39:59]: Saving geojson file to: C:\\AIC Experiment Data\\VGA Manhattan\\maps/edges.geojson\n"
     ]
    }
   ],
   "source": [
    "roadmaptools.inout.save_geojson(edata, r\"C:\\AIC Experiment Data\\VGA Manhattan\\maps/edges.geojson\")"
   ]
  },
  {
   "cell_type": "code",
   "execution_count": null,
   "metadata": {},
   "outputs": [],
   "source": []
  }
 ],
 "metadata": {
  "kernelspec": {
   "display_name": "Python 3",
   "language": "python",
   "name": "python3"
  },
  "language_info": {
   "codemirror_mode": {
    "name": "ipython",
    "version": 3
   },
   "file_extension": ".py",
   "mimetype": "text/x-python",
   "name": "python",
   "nbconvert_exporter": "python",
   "pygments_lexer": "ipython3",
   "version": "3.9.0"
  }
 },
 "nbformat": 4,
 "nbformat_minor": 4
}
